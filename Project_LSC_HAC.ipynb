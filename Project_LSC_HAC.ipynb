{
  "nbformat": 4,
  "nbformat_minor": 0,
  "metadata": {
    "accelerator": "GPU",
    "colab": {
      "name": "Project_LSC_HAC.ipynb",
      "provenance": [],
      "collapsed_sections": []
    },
    "kernelspec": {
      "display_name": "Python 3",
      "name": "python3"
    },
    "language_info": {
      "name": "python"
    }
  },
  "cells": [
    {
      "cell_type": "code",
      "metadata": {
        "colab": {
          "base_uri": "https://localhost:8080/"
        },
        "id": "XXmbGya44bw-",
        "outputId": "63a5836c-8549-4450-975e-e9ea373a0205"
      },
      "source": [
        "#importing libraries & modules\n",
        "\n",
        "%load_ext tensorboard\n",
        "import numpy as np\n",
        "import tensorflow as tf\n",
        "from tensorflow import keras\n",
        "import matplotlib.pyplot as plt\n",
        "import datetime\n",
        "\n",
        "#loading the dataset\n",
        "\n",
        "url = 'https://archive.ics.uci.edu/ml/machine-learning-databases/00240/'\n",
        "datafile = url + 'UCI%20HAR%20Dataset.zip'\n",
        "!curl $datafile --output UCI_HAR_Dataset.zip\n",
        "!unzip -qq UCI_HAR_Dataset.zip\n",
        "!mv -f UCIn HARn Dataset UCI_HAR_DATASET\n",
        "\n",
        "#creating the training & test sets\n",
        "\n",
        "ytest = np.loadtxt('/content/UCI HAR Dataset/test/y_test.txt')-1\n",
        "ytrain = np.loadtxt('/content/UCI HAR Dataset/train/y_train.txt')-1\n",
        "\n",
        "xx=np.loadtxt('/content/UCI HAR Dataset/test/Inertial Signals/body_acc_x_test.txt')\n",
        "yy=np.loadtxt('/content/UCI HAR Dataset/test/Inertial Signals/body_acc_y_test.txt')\n",
        "zz=np.loadtxt('/content/UCI HAR Dataset/test/Inertial Signals/body_acc_z_test.txt')\n",
        "\n",
        "xtest = np.concatenate((xx[:,:,None],yy[:,:,None],zz[:,:,None]),axis=2)\n",
        "\n",
        "xx=np.loadtxt('/content/UCI HAR Dataset/train/Inertial Signals/body_acc_x_train.txt')\n",
        "yy=np.loadtxt('/content/UCI HAR Dataset/train/Inertial Signals/body_acc_y_train.txt')\n",
        "zz=np.loadtxt('/content/UCI HAR Dataset/train/Inertial Signals/body_acc_z_train.txt')\n",
        "\n",
        "xtrain = np.concatenate((xx[:,:,None],yy[:,:,None],zz[:,:,None]),axis=2)"
      ],
      "execution_count": 2,
      "outputs": [
        {
          "output_type": "stream",
          "text": [
            "  % Total    % Received % Xferd  Average Speed   Time    Time     Time  Current\n",
            "                                 Dload  Upload   Total   Spent    Left  Speed\n",
            "100 58.1M  100 58.1M    0     0  60.6M      0 --:--:-- --:--:-- --:--:-- 60.6M\n",
            "mv: target 'UCI_HAR_DATASET' is not a directory\n"
          ],
          "name": "stdout"
        }
      ]
    },
    {
      "cell_type": "code",
      "metadata": {
        "colab": {
          "base_uri": "https://localhost:8080/"
        },
        "id": "kJKZOLGF7KMt",
        "outputId": "110aacd4-2955-461f-f7b7-5d8e86906edc"
      },
      "source": [
        "#checking the shape of the sets/arrays\n",
        "\n",
        "xtrain.shape"
      ],
      "execution_count": 3,
      "outputs": [
        {
          "output_type": "execute_result",
          "data": {
            "text/plain": [
              "(7352, 128, 3)"
            ]
          },
          "metadata": {
            "tags": []
          },
          "execution_count": 3
        }
      ]
    },
    {
      "cell_type": "code",
      "metadata": {
        "colab": {
          "base_uri": "https://localhost:8080/"
        },
        "id": "2-tzY82q9uQ9",
        "outputId": "a66b5b27-3b10-4179-dac4-778d5ebf0e31"
      },
      "source": [
        "#checking the shape of the sets/arrays\n",
        "\n",
        "print(ytrain.shape, ytest.shape)"
      ],
      "execution_count": 4,
      "outputs": [
        {
          "output_type": "stream",
          "text": [
            "(7352,) (2947,)\n"
          ],
          "name": "stdout"
        }
      ]
    },
    {
      "cell_type": "code",
      "metadata": {
        "colab": {
          "base_uri": "https://localhost:8080/"
        },
        "id": "n2Yw5MTu9ung",
        "outputId": "ba34c307-e741-43b0-decf-4529f37f1a79"
      },
      "source": [
        "#checking the shape of the sets/arrays\n",
        "\n",
        "xtest.shape"
      ],
      "execution_count": 5,
      "outputs": [
        {
          "output_type": "execute_result",
          "data": {
            "text/plain": [
              "(2947, 128, 3)"
            ]
          },
          "metadata": {
            "tags": []
          },
          "execution_count": 5
        }
      ]
    },
    {
      "cell_type": "code",
      "metadata": {
        "colab": {
          "base_uri": "https://localhost:8080/"
        },
        "id": "pCMtVFyE977F",
        "outputId": "8ee8cfea-b5e1-4333-fc96-d0297d4683e0"
      },
      "source": [
        "#checking for NAs\n",
        "\n",
        "np.isnan(np.sum(xtrain))"
      ],
      "execution_count": 6,
      "outputs": [
        {
          "output_type": "execute_result",
          "data": {
            "text/plain": [
              "False"
            ]
          },
          "metadata": {
            "tags": []
          },
          "execution_count": 6
        }
      ]
    },
    {
      "cell_type": "code",
      "metadata": {
        "colab": {
          "base_uri": "https://localhost:8080/"
        },
        "id": "U34nEP3E_5Tq",
        "outputId": "cd0e64e1-3382-45df-c33a-2b369c38c62d"
      },
      "source": [
        "#checking for NAs\n",
        "\n",
        "np.isnan(np.sum(xtest))"
      ],
      "execution_count": 7,
      "outputs": [
        {
          "output_type": "execute_result",
          "data": {
            "text/plain": [
              "False"
            ]
          },
          "metadata": {
            "tags": []
          },
          "execution_count": 7
        }
      ]
    },
    {
      "cell_type": "code",
      "metadata": {
        "colab": {
          "base_uri": "https://localhost:8080/"
        },
        "id": "f3puz7Bo_5l2",
        "outputId": "dad509f8-9214-4261-9f52-5c2ce897b7f4"
      },
      "source": [
        "#checking for NAs\n",
        "\n",
        "np.isnan(np.sum(ytest))"
      ],
      "execution_count": 8,
      "outputs": [
        {
          "output_type": "execute_result",
          "data": {
            "text/plain": [
              "False"
            ]
          },
          "metadata": {
            "tags": []
          },
          "execution_count": 8
        }
      ]
    },
    {
      "cell_type": "code",
      "metadata": {
        "colab": {
          "base_uri": "https://localhost:8080/"
        },
        "id": "c-Q9rPSs_533",
        "outputId": "c3a11a83-0139-4e31-df4c-2b978f305e8b"
      },
      "source": [
        "#checking for NAs\n",
        "\n",
        "np.isnan(np.sum(ytrain))"
      ],
      "execution_count": 9,
      "outputs": [
        {
          "output_type": "execute_result",
          "data": {
            "text/plain": [
              "False"
            ]
          },
          "metadata": {
            "tags": []
          },
          "execution_count": 9
        }
      ]
    },
    {
      "cell_type": "code",
      "metadata": {
        "colab": {
          "base_uri": "https://localhost:8080/",
          "height": 281
        },
        "id": "uGDHYppmnEcT",
        "outputId": "1b24b694-72c2-4921-bf34-3e5e98716930"
      },
      "source": [
        "#plotting a time series as an example\n",
        "\n",
        "plt.title('Example 3D time series from the training set')\n",
        "plt.plot(xtrain[0]);"
      ],
      "execution_count": 10,
      "outputs": [
        {
          "output_type": "display_data",
          "data": {
            "image/png": "[encoded data removed]",
            "text/plain": [
              "<Figure size 432x288 with 1 Axes>"
            ]
          },
          "metadata": {
            "tags": [],
            "needs_background": "light"
          }
        }
      ]
    },
    {
      "cell_type": "code",
      "metadata": {
        "id": "IVdJN4woFuPd"
      },
      "source": [
        "#encoding the labels\n",
        "\n",
        "ytrain = ytrain.astype(int)\n",
        "ytest = ytest.astype(int)\n"
      ],
      "execution_count": 11,
      "outputs": []
    },
    {
      "cell_type": "code",
      "metadata": {
        "colab": {
          "base_uri": "https://localhost:8080/"
        },
        "id": "t0u4TzDCFue2",
        "outputId": "df23cb73-346a-47ce-91ff-667cf7bcf8a4"
      },
      "source": [
        "#printing the target variable\n",
        "\n",
        "ytrain"
      ],
      "execution_count": 12,
      "outputs": [
        {
          "output_type": "execute_result",
          "data": {
            "text/plain": [
              "array([4, 4, 4, ..., 1, 1, 1])"
            ]
          },
          "metadata": {
            "tags": []
          },
          "execution_count": 12
        }
      ]
    },
    {
      "cell_type": "code",
      "metadata": {
        "colab": {
          "base_uri": "https://localhost:8080/"
        },
        "id": "vGrAJTbQ-MVo",
        "outputId": "733a4411-e3bd-470a-9897-7de8c2d08642"
      },
      "source": [
        "#part1 - model_1 - building the structure \n",
        "\n",
        "model_1 = keras.Sequential([\n",
        "    keras.layers.Flatten(input_shape=(128, 3)), \n",
        "    keras.layers.Dense(384, activation='relu'),\n",
        "    keras.layers.Dense(6, activation='softmax') \n",
        "])\n",
        "\n",
        "#part1 - model_1 - compiling the model\n",
        "\n",
        "model_1.compile(optimizer='adam',\n",
        "              loss='sparse_categorical_crossentropy',\n",
        "              metrics=['accuracy'])\n",
        "\n",
        "#part1 - model_1 - initialising the tensorboard log\n",
        "\n",
        "log_dir = \"logs/fit/\" + datetime.datetime.now().strftime(\"%Y%m%d-%H%M%S\")\n",
        "tensorboard_callback = tf.keras.callbacks.TensorBoard(log_dir=log_dir, \n",
        "                                                      histogram_freq=1)\n",
        "\n",
        "#part1 - model_1 - fitting the model\n",
        "\n",
        "model_1.fit(xtrain, ytrain, epochs=100, validation_data=(xtest, ytest), \n",
        "            callbacks=[tensorboard_callback])"
      ],
      "execution_count": 13,
      "outputs": [
        {
          "output_type": "stream",
          "text": [
            "Epoch 1/100\n",
            "230/230 [==============================] - 4s 5ms/step - loss: 1.1254 - accuracy: 0.5097 - val_loss: 0.8572 - val_accuracy: 0.5887\n",
            "Epoch 2/100\n",
            "230/230 [==============================] - 1s 3ms/step - loss: 0.7563 - accuracy: 0.6240 - val_loss: 0.7830 - val_accuracy: 0.5986\n",
            "Epoch 3/100\n",
            "230/230 [==============================] - 1s 3ms/step - loss: 0.6722 - accuracy: 0.6878 - val_loss: 0.7448 - val_accuracy: 0.6525\n",
            "Epoch 4/100\n",
            "230/230 [==============================] - 1s 3ms/step - loss: 0.6168 - accuracy: 0.7242 - val_loss: 0.7161 - val_accuracy: 0.7160\n",
            "Epoch 5/100\n",
            "230/230 [==============================] - 1s 3ms/step - loss: 0.5724 - accuracy: 0.7556 - val_loss: 0.6945 - val_accuracy: 0.7011\n",
            "Epoch 6/100\n",
            "230/230 [==============================] - 1s 3ms/step - loss: 0.5326 - accuracy: 0.7752 - val_loss: 0.6769 - val_accuracy: 0.7245\n",
            "Epoch 7/100\n",
            "230/230 [==============================] - 1s 3ms/step - loss: 0.4997 - accuracy: 0.7913 - val_loss: 0.6660 - val_accuracy: 0.7421\n",
            "Epoch 8/100\n",
            "230/230 [==============================] - 1s 3ms/step - loss: 0.4781 - accuracy: 0.8018 - val_loss: 0.6603 - val_accuracy: 0.7153\n",
            "Epoch 9/100\n",
            "230/230 [==============================] - 1s 3ms/step - loss: 0.4548 - accuracy: 0.8226 - val_loss: 0.6473 - val_accuracy: 0.7564\n",
            "Epoch 10/100\n",
            "230/230 [==============================] - 1s 3ms/step - loss: 0.4350 - accuracy: 0.8316 - val_loss: 0.6548 - val_accuracy: 0.7696\n",
            "Epoch 11/100\n",
            "230/230 [==============================] - 1s 3ms/step - loss: 0.4204 - accuracy: 0.8375 - val_loss: 0.6626 - val_accuracy: 0.7370\n",
            "Epoch 12/100\n",
            "230/230 [==============================] - 1s 3ms/step - loss: 0.4073 - accuracy: 0.8441 - val_loss: 0.6473 - val_accuracy: 0.7570\n",
            "Epoch 13/100\n",
            "230/230 [==============================] - 1s 3ms/step - loss: 0.3938 - accuracy: 0.8482 - val_loss: 0.6649 - val_accuracy: 0.7523\n",
            "Epoch 14/100\n",
            "230/230 [==============================] - 1s 3ms/step - loss: 0.3799 - accuracy: 0.8573 - val_loss: 0.6540 - val_accuracy: 0.7767\n",
            "Epoch 15/100\n",
            "230/230 [==============================] - 1s 3ms/step - loss: 0.3693 - accuracy: 0.8644 - val_loss: 0.6654 - val_accuracy: 0.7835\n",
            "Epoch 16/100\n",
            "230/230 [==============================] - 1s 3ms/step - loss: 0.3608 - accuracy: 0.8652 - val_loss: 0.6680 - val_accuracy: 0.7845\n",
            "Epoch 17/100\n",
            "230/230 [==============================] - 1s 3ms/step - loss: 0.3490 - accuracy: 0.8720 - val_loss: 0.6828 - val_accuracy: 0.7733\n",
            "Epoch 18/100\n",
            "230/230 [==============================] - 1s 3ms/step - loss: 0.3412 - accuracy: 0.8742 - val_loss: 0.6948 - val_accuracy: 0.7822\n",
            "Epoch 19/100\n",
            "230/230 [==============================] - 1s 3ms/step - loss: 0.3313 - accuracy: 0.8815 - val_loss: 0.6988 - val_accuracy: 0.7876\n",
            "Epoch 20/100\n",
            "230/230 [==============================] - 1s 3ms/step - loss: 0.3219 - accuracy: 0.8822 - val_loss: 0.7120 - val_accuracy: 0.7818\n",
            "Epoch 21/100\n",
            "230/230 [==============================] - 1s 3ms/step - loss: 0.3128 - accuracy: 0.8847 - val_loss: 0.7226 - val_accuracy: 0.7805\n",
            "Epoch 22/100\n",
            "230/230 [==============================] - 1s 3ms/step - loss: 0.3136 - accuracy: 0.8940 - val_loss: 0.8001 - val_accuracy: 0.7747\n",
            "Epoch 23/100\n",
            "230/230 [==============================] - 1s 3ms/step - loss: 0.3129 - accuracy: 0.8920 - val_loss: 0.9304 - val_accuracy: 0.7577\n",
            "Epoch 24/100\n",
            "230/230 [==============================] - 1s 3ms/step - loss: 0.3384 - accuracy: 0.8874 - val_loss: 0.7874 - val_accuracy: 0.7855\n",
            "Epoch 25/100\n",
            "230/230 [==============================] - 1s 3ms/step - loss: 0.2899 - accuracy: 0.8996 - val_loss: 0.7758 - val_accuracy: 0.7825\n",
            "Epoch 26/100\n",
            "230/230 [==============================] - 1s 3ms/step - loss: 0.2817 - accuracy: 0.9068 - val_loss: 0.7874 - val_accuracy: 0.7794\n",
            "Epoch 27/100\n",
            "230/230 [==============================] - 1s 3ms/step - loss: 0.2773 - accuracy: 0.9033 - val_loss: 0.8059 - val_accuracy: 0.7696\n",
            "Epoch 28/100\n",
            "230/230 [==============================] - 1s 3ms/step - loss: 0.2739 - accuracy: 0.9066 - val_loss: 0.7990 - val_accuracy: 0.7784\n",
            "Epoch 29/100\n",
            "230/230 [==============================] - 1s 3ms/step - loss: 0.2709 - accuracy: 0.9079 - val_loss: 0.8153 - val_accuracy: 0.7740\n",
            "Epoch 30/100\n",
            "230/230 [==============================] - 1s 3ms/step - loss: 0.2627 - accuracy: 0.9112 - val_loss: 0.8300 - val_accuracy: 0.7798\n",
            "Epoch 31/100\n",
            "230/230 [==============================] - 1s 3ms/step - loss: 0.2590 - accuracy: 0.9123 - val_loss: 0.8521 - val_accuracy: 0.7723\n",
            "Epoch 32/100\n",
            "230/230 [==============================] - 1s 3ms/step - loss: 0.2551 - accuracy: 0.9172 - val_loss: 0.8741 - val_accuracy: 0.7757\n",
            "Epoch 33/100\n",
            "230/230 [==============================] - 1s 3ms/step - loss: 0.2483 - accuracy: 0.9192 - val_loss: 0.8456 - val_accuracy: 0.7771\n",
            "Epoch 34/100\n",
            "230/230 [==============================] - 1s 3ms/step - loss: 0.2431 - accuracy: 0.9204 - val_loss: 0.8648 - val_accuracy: 0.7838\n",
            "Epoch 35/100\n",
            "230/230 [==============================] - 1s 3ms/step - loss: 0.2409 - accuracy: 0.9206 - val_loss: 0.8563 - val_accuracy: 0.7835\n",
            "Epoch 36/100\n",
            "230/230 [==============================] - 1s 3ms/step - loss: 0.2376 - accuracy: 0.9252 - val_loss: 0.8780 - val_accuracy: 0.7794\n",
            "Epoch 37/100\n",
            "230/230 [==============================] - 1s 3ms/step - loss: 0.2303 - accuracy: 0.9244 - val_loss: 0.8698 - val_accuracy: 0.7815\n",
            "Epoch 38/100\n",
            "230/230 [==============================] - 1s 3ms/step - loss: 0.2256 - accuracy: 0.9287 - val_loss: 0.8796 - val_accuracy: 0.7811\n",
            "Epoch 39/100\n",
            "230/230 [==============================] - 1s 3ms/step - loss: 0.2214 - accuracy: 0.9295 - val_loss: 0.9046 - val_accuracy: 0.7777\n",
            "Epoch 40/100\n",
            "230/230 [==============================] - 1s 3ms/step - loss: 0.2231 - accuracy: 0.9304 - val_loss: 0.9512 - val_accuracy: 0.7730\n",
            "Epoch 41/100\n",
            "230/230 [==============================] - 1s 3ms/step - loss: 0.2174 - accuracy: 0.9328 - val_loss: 0.9874 - val_accuracy: 0.7754\n",
            "Epoch 42/100\n",
            "230/230 [==============================] - 1s 3ms/step - loss: 0.2095 - accuracy: 0.9347 - val_loss: 0.9559 - val_accuracy: 0.7798\n",
            "Epoch 43/100\n",
            "230/230 [==============================] - 1s 3ms/step - loss: 0.2091 - accuracy: 0.9357 - val_loss: 0.9851 - val_accuracy: 0.7693\n",
            "Epoch 44/100\n",
            "230/230 [==============================] - 1s 3ms/step - loss: 0.2082 - accuracy: 0.9365 - val_loss: 0.9905 - val_accuracy: 0.7740\n",
            "Epoch 45/100\n",
            "230/230 [==============================] - 1s 3ms/step - loss: 0.1981 - accuracy: 0.9374 - val_loss: 0.9913 - val_accuracy: 0.7750\n",
            "Epoch 46/100\n",
            "230/230 [==============================] - 1s 3ms/step - loss: 0.2048 - accuracy: 0.9378 - val_loss: 1.0294 - val_accuracy: 0.7737\n",
            "Epoch 47/100\n",
            "230/230 [==============================] - 1s 3ms/step - loss: 0.1931 - accuracy: 0.9406 - val_loss: 1.0847 - val_accuracy: 0.7659\n",
            "Epoch 48/100\n",
            "230/230 [==============================] - 1s 3ms/step - loss: 0.1911 - accuracy: 0.9415 - val_loss: 1.0356 - val_accuracy: 0.7730\n",
            "Epoch 49/100\n",
            "230/230 [==============================] - 1s 3ms/step - loss: 0.1851 - accuracy: 0.9441 - val_loss: 1.0685 - val_accuracy: 0.7672\n",
            "Epoch 50/100\n",
            "230/230 [==============================] - 1s 3ms/step - loss: 0.1798 - accuracy: 0.9484 - val_loss: 1.0507 - val_accuracy: 0.7760\n",
            "Epoch 51/100\n",
            "230/230 [==============================] - 1s 3ms/step - loss: 0.1747 - accuracy: 0.9497 - val_loss: 1.0886 - val_accuracy: 0.7703\n",
            "Epoch 52/100\n",
            "230/230 [==============================] - 1s 3ms/step - loss: 0.1819 - accuracy: 0.9493 - val_loss: 1.2912 - val_accuracy: 0.7506\n",
            "Epoch 53/100\n",
            "230/230 [==============================] - 1s 3ms/step - loss: 0.2168 - accuracy: 0.9372 - val_loss: 1.1098 - val_accuracy: 0.7852\n",
            "Epoch 54/100\n",
            "230/230 [==============================] - 1s 3ms/step - loss: 0.1695 - accuracy: 0.9529 - val_loss: 1.0983 - val_accuracy: 0.7835\n",
            "Epoch 55/100\n",
            "230/230 [==============================] - 1s 3ms/step - loss: 0.1644 - accuracy: 0.9538 - val_loss: 1.0898 - val_accuracy: 0.7852\n",
            "Epoch 56/100\n",
            "230/230 [==============================] - 1s 3ms/step - loss: 0.1617 - accuracy: 0.9547 - val_loss: 1.1161 - val_accuracy: 0.7801\n",
            "Epoch 57/100\n",
            "230/230 [==============================] - 1s 3ms/step - loss: 0.1595 - accuracy: 0.9558 - val_loss: 1.1229 - val_accuracy: 0.7784\n",
            "Epoch 58/100\n",
            "230/230 [==============================] - 1s 3ms/step - loss: 0.1553 - accuracy: 0.9585 - val_loss: 1.1512 - val_accuracy: 0.7781\n",
            "Epoch 59/100\n",
            "230/230 [==============================] - 1s 3ms/step - loss: 0.1519 - accuracy: 0.9591 - val_loss: 1.1399 - val_accuracy: 0.7798\n",
            "Epoch 60/100\n",
            "230/230 [==============================] - 1s 3ms/step - loss: 0.1480 - accuracy: 0.9600 - val_loss: 1.1620 - val_accuracy: 0.7815\n",
            "Epoch 61/100\n",
            "230/230 [==============================] - 1s 3ms/step - loss: 0.1577 - accuracy: 0.9591 - val_loss: 1.2130 - val_accuracy: 0.7760\n",
            "Epoch 62/100\n",
            "230/230 [==============================] - 1s 3ms/step - loss: 0.1600 - accuracy: 0.9542 - val_loss: 1.1950 - val_accuracy: 0.7771\n",
            "Epoch 63/100\n",
            "230/230 [==============================] - 1s 3ms/step - loss: 0.1444 - accuracy: 0.9622 - val_loss: 1.1714 - val_accuracy: 0.7777\n",
            "Epoch 64/100\n",
            "230/230 [==============================] - 1s 3ms/step - loss: 0.1414 - accuracy: 0.9631 - val_loss: 1.1862 - val_accuracy: 0.7743\n",
            "Epoch 65/100\n",
            "230/230 [==============================] - 1s 3ms/step - loss: 0.1425 - accuracy: 0.9623 - val_loss: 1.1846 - val_accuracy: 0.7720\n",
            "Epoch 66/100\n",
            "230/230 [==============================] - 1s 3ms/step - loss: 0.1335 - accuracy: 0.9665 - val_loss: 1.2012 - val_accuracy: 0.7760\n",
            "Epoch 67/100\n",
            "230/230 [==============================] - 1s 3ms/step - loss: 0.1306 - accuracy: 0.9674 - val_loss: 1.2186 - val_accuracy: 0.7706\n",
            "Epoch 68/100\n",
            "230/230 [==============================] - 1s 3ms/step - loss: 0.1323 - accuracy: 0.9659 - val_loss: 1.2333 - val_accuracy: 0.7757\n",
            "Epoch 69/100\n",
            "230/230 [==============================] - 1s 3ms/step - loss: 0.1282 - accuracy: 0.9679 - val_loss: 1.2505 - val_accuracy: 0.7750\n",
            "Epoch 70/100\n",
            "230/230 [==============================] - 1s 3ms/step - loss: 0.1252 - accuracy: 0.9689 - val_loss: 1.2543 - val_accuracy: 0.7727\n",
            "Epoch 71/100\n",
            "230/230 [==============================] - 1s 3ms/step - loss: 0.1201 - accuracy: 0.9728 - val_loss: 1.2763 - val_accuracy: 0.7696\n",
            "Epoch 72/100\n",
            "230/230 [==============================] - 1s 3ms/step - loss: 0.1211 - accuracy: 0.9716 - val_loss: 1.3647 - val_accuracy: 0.7730\n",
            "Epoch 73/100\n",
            "230/230 [==============================] - 1s 3ms/step - loss: 0.1497 - accuracy: 0.9610 - val_loss: 1.3243 - val_accuracy: 0.7716\n",
            "Epoch 74/100\n",
            "230/230 [==============================] - 1s 3ms/step - loss: 0.1448 - accuracy: 0.9645 - val_loss: 1.2986 - val_accuracy: 0.7754\n",
            "Epoch 75/100\n",
            "230/230 [==============================] - 1s 3ms/step - loss: 0.1186 - accuracy: 0.9740 - val_loss: 1.2417 - val_accuracy: 0.7757\n",
            "Epoch 76/100\n",
            "230/230 [==============================] - 1s 3ms/step - loss: 0.1119 - accuracy: 0.9758 - val_loss: 1.2371 - val_accuracy: 0.7794\n",
            "Epoch 77/100\n",
            "230/230 [==============================] - 1s 3ms/step - loss: 0.1098 - accuracy: 0.9763 - val_loss: 1.2466 - val_accuracy: 0.7777\n",
            "Epoch 78/100\n",
            "230/230 [==============================] - 1s 3ms/step - loss: 0.1074 - accuracy: 0.9780 - val_loss: 1.2539 - val_accuracy: 0.7777\n",
            "Epoch 79/100\n",
            "230/230 [==============================] - 1s 3ms/step - loss: 0.1058 - accuracy: 0.9770 - val_loss: 1.2661 - val_accuracy: 0.7747\n",
            "Epoch 80/100\n",
            "230/230 [==============================] - 1s 3ms/step - loss: 0.1081 - accuracy: 0.9781 - val_loss: 1.2850 - val_accuracy: 0.7737\n",
            "Epoch 81/100\n",
            "230/230 [==============================] - 1s 3ms/step - loss: 0.1082 - accuracy: 0.9759 - val_loss: 1.3119 - val_accuracy: 0.7720\n",
            "Epoch 82/100\n",
            "230/230 [==============================] - 1s 3ms/step - loss: 0.1019 - accuracy: 0.9801 - val_loss: 1.2882 - val_accuracy: 0.7760\n",
            "Epoch 83/100\n",
            "230/230 [==============================] - 1s 3ms/step - loss: 0.1075 - accuracy: 0.9804 - val_loss: 1.3199 - val_accuracy: 0.7727\n",
            "Epoch 84/100\n",
            "230/230 [==============================] - 1s 3ms/step - loss: 0.1036 - accuracy: 0.9766 - val_loss: 1.3583 - val_accuracy: 0.7672\n",
            "Epoch 85/100\n",
            "230/230 [==============================] - 1s 3ms/step - loss: 0.0975 - accuracy: 0.9800 - val_loss: 1.3586 - val_accuracy: 0.7720\n",
            "Epoch 86/100\n",
            "230/230 [==============================] - 1s 3ms/step - loss: 0.0927 - accuracy: 0.9818 - val_loss: 1.3564 - val_accuracy: 0.7737\n",
            "Epoch 87/100\n",
            "230/230 [==============================] - 1s 3ms/step - loss: 0.0905 - accuracy: 0.9837 - val_loss: 1.3778 - val_accuracy: 0.7737\n",
            "Epoch 88/100\n",
            "230/230 [==============================] - 1s 3ms/step - loss: 0.0891 - accuracy: 0.9844 - val_loss: 1.3938 - val_accuracy: 0.7696\n",
            "Epoch 89/100\n",
            "230/230 [==============================] - 1s 3ms/step - loss: 0.0883 - accuracy: 0.9842 - val_loss: 1.4049 - val_accuracy: 0.7757\n",
            "Epoch 90/100\n",
            "230/230 [==============================] - 1s 3ms/step - loss: 0.0847 - accuracy: 0.9864 - val_loss: 1.3943 - val_accuracy: 0.7737\n",
            "Epoch 91/100\n",
            "230/230 [==============================] - 1s 3ms/step - loss: 0.0868 - accuracy: 0.9850 - val_loss: 1.3816 - val_accuracy: 0.7774\n",
            "Epoch 92/100\n",
            "230/230 [==============================] - 1s 3ms/step - loss: 0.0815 - accuracy: 0.9856 - val_loss: 1.3596 - val_accuracy: 0.7801\n",
            "Epoch 93/100\n",
            "230/230 [==============================] - 1s 3ms/step - loss: 0.0788 - accuracy: 0.9872 - val_loss: 1.4057 - val_accuracy: 0.7743\n",
            "Epoch 94/100\n",
            "230/230 [==============================] - 1s 3ms/step - loss: 0.0792 - accuracy: 0.9872 - val_loss: 1.4446 - val_accuracy: 0.7774\n",
            "Epoch 95/100\n",
            "230/230 [==============================] - 1s 3ms/step - loss: 0.1122 - accuracy: 0.9774 - val_loss: 1.4789 - val_accuracy: 0.7716\n",
            "Epoch 96/100\n",
            "230/230 [==============================] - 1s 3ms/step - loss: 0.1002 - accuracy: 0.9800 - val_loss: 1.4191 - val_accuracy: 0.7801\n",
            "Epoch 97/100\n",
            "230/230 [==============================] - 1s 3ms/step - loss: 0.0784 - accuracy: 0.9882 - val_loss: 1.4281 - val_accuracy: 0.7801\n",
            "Epoch 98/100\n",
            "230/230 [==============================] - 1s 3ms/step - loss: 0.0730 - accuracy: 0.9905 - val_loss: 1.4183 - val_accuracy: 0.7788\n",
            "Epoch 99/100\n",
            "230/230 [==============================] - 1s 3ms/step - loss: 0.0718 - accuracy: 0.9903 - val_loss: 1.4326 - val_accuracy: 0.7811\n",
            "Epoch 100/100\n",
            "230/230 [==============================] - 1s 3ms/step - loss: 0.0705 - accuracy: 0.9905 - val_loss: 1.4390 - val_accuracy: 0.7815\n"
          ],
          "name": "stdout"
        },
        {
          "output_type": "execute_result",
          "data": {
            "text/plain": [
              "<tensorflow.python.keras.callbacks.History at 0x7fc6390a6d50>"
            ]
          },
          "metadata": {
            "tags": []
          },
          "execution_count": 13
        }
      ]
    },
    {
      "cell_type": "code",
      "metadata": {
        "colab": {
          "base_uri": "https://localhost:8080/"
        },
        "id": "hvrCo9XKI2IQ",
        "outputId": "4db678b6-736e-4f66-8b02-f88a83b06dd6"
      },
      "source": [
        "#part1 - model_1 - printing the summary\n",
        "\n",
        "model_1.summary()"
      ],
      "execution_count": 14,
      "outputs": [
        {
          "output_type": "stream",
          "text": [
            "Model: \"sequential\"\n",
            "_________________________________________________________________\n",
            "Layer (type)                 Output Shape              Param #   \n",
            "=================================================================\n",
            "flatten (Flatten)            (None, 384)               0         \n",
            "_________________________________________________________________\n",
            "dense (Dense)                (None, 384)               147840    \n",
            "_________________________________________________________________\n",
            "dense_1 (Dense)              (None, 6)                 2310      \n",
            "=================================================================\n",
            "Total params: 150,150\n",
            "Trainable params: 150,150\n",
            "Non-trainable params: 0\n",
            "_________________________________________________________________\n"
          ],
          "name": "stdout"
        }
      ]
    },
    {
      "cell_type": "code",
      "metadata": {
        "id": "hCS3TcaWj1jF"
      },
      "source": [
        "#part1 - model_1 - opening tensorboard app\n",
        "\n",
        "%tensorboard --logdir logs/fit"
      ],
      "execution_count": 15,
      "outputs": []
    },
    {
      "cell_type": "code",
      "metadata": {
        "colab": {
          "base_uri": "https://localhost:8080/"
        },
        "id": "ssIzUHbXkTKt",
        "outputId": "72daac06-c4e9-447e-bb3e-dc1fa27be7bb"
      },
      "source": [
        "#part2 - model_2 - fitting a CNN\n",
        "\n",
        "model_2 = keras.Sequential([\n",
        "  keras.layers.Conv1D(filters=32, kernel_size=4, activation='relu', \n",
        "                      input_shape=(128,3)),\n",
        "  keras.layers.BatchNormalization(),\n",
        "  keras.layers.Dense(100, activation='relu'),\n",
        "  keras.layers.GlobalAveragePooling1D(),\n",
        "  keras.layers.Dense(6, activation='softmax') \n",
        "])\n",
        "\n",
        "#part2 - model_2 - compiling the model\n",
        "\n",
        "model_2.compile(optimizer='adam',\n",
        "              loss='sparse_categorical_crossentropy',\n",
        "              metrics=['accuracy'])\n",
        "\n",
        "#part2 - model_2 - fitting the model\n",
        "\n",
        "history_2 = model_2.fit(xtrain, ytrain, epochs=100, \n",
        "                        validation_data=(xtest, ytest))"
      ],
      "execution_count": 16,
      "outputs": [
        {
          "output_type": "stream",
          "text": [
            "Epoch 1/100\n",
            "230/230 [==============================] - 30s 5ms/step - loss: 0.9887 - accuracy: 0.5666 - val_loss: 1.2981 - val_accuracy: 0.5640\n",
            "Epoch 2/100\n",
            "230/230 [==============================] - 1s 4ms/step - loss: 0.7179 - accuracy: 0.6749 - val_loss: 0.8072 - val_accuracy: 0.6335\n",
            "Epoch 3/100\n",
            "230/230 [==============================] - 1s 5ms/step - loss: 0.6410 - accuracy: 0.6914 - val_loss: 0.6747 - val_accuracy: 0.6318\n",
            "Epoch 4/100\n",
            "230/230 [==============================] - 1s 4ms/step - loss: 0.6017 - accuracy: 0.7205 - val_loss: 0.6135 - val_accuracy: 0.7676\n",
            "Epoch 5/100\n",
            "230/230 [==============================] - 1s 4ms/step - loss: 0.5698 - accuracy: 0.7408 - val_loss: 0.6127 - val_accuracy: 0.7041\n",
            "Epoch 6/100\n",
            "230/230 [==============================] - 1s 5ms/step - loss: 0.5451 - accuracy: 0.7524 - val_loss: 0.5724 - val_accuracy: 0.8042\n",
            "Epoch 7/100\n",
            "230/230 [==============================] - 1s 5ms/step - loss: 0.5213 - accuracy: 0.7720 - val_loss: 0.5535 - val_accuracy: 0.7251\n",
            "Epoch 8/100\n",
            "230/230 [==============================] - 1s 5ms/step - loss: 0.5025 - accuracy: 0.7756 - val_loss: 0.5578 - val_accuracy: 0.7604\n",
            "Epoch 9/100\n",
            "230/230 [==============================] - 1s 5ms/step - loss: 0.4872 - accuracy: 0.7828 - val_loss: 0.5073 - val_accuracy: 0.7954\n",
            "Epoch 10/100\n",
            "230/230 [==============================] - 1s 5ms/step - loss: 0.4748 - accuracy: 0.7962 - val_loss: 0.5059 - val_accuracy: 0.7669\n",
            "Epoch 11/100\n",
            "230/230 [==============================] - 1s 5ms/step - loss: 0.4658 - accuracy: 0.7938 - val_loss: 0.5252 - val_accuracy: 0.7791\n",
            "Epoch 12/100\n",
            "230/230 [==============================] - 1s 5ms/step - loss: 0.4522 - accuracy: 0.8022 - val_loss: 0.5073 - val_accuracy: 0.7767\n",
            "Epoch 13/100\n",
            "230/230 [==============================] - 1s 4ms/step - loss: 0.4490 - accuracy: 0.8010 - val_loss: 0.5894 - val_accuracy: 0.7601\n",
            "Epoch 14/100\n",
            "230/230 [==============================] - 1s 5ms/step - loss: 0.4433 - accuracy: 0.8009 - val_loss: 0.5177 - val_accuracy: 0.7842\n",
            "Epoch 15/100\n",
            "230/230 [==============================] - 1s 5ms/step - loss: 0.4323 - accuracy: 0.8126 - val_loss: 0.4905 - val_accuracy: 0.7974\n",
            "Epoch 16/100\n",
            "230/230 [==============================] - 1s 4ms/step - loss: 0.4317 - accuracy: 0.8084 - val_loss: 0.4628 - val_accuracy: 0.8266\n",
            "Epoch 17/100\n",
            "230/230 [==============================] - 1s 5ms/step - loss: 0.4282 - accuracy: 0.8127 - val_loss: 0.4999 - val_accuracy: 0.8395\n",
            "Epoch 18/100\n",
            "230/230 [==============================] - 1s 5ms/step - loss: 0.4197 - accuracy: 0.8205 - val_loss: 0.4570 - val_accuracy: 0.8436\n",
            "Epoch 19/100\n",
            "230/230 [==============================] - 1s 5ms/step - loss: 0.4101 - accuracy: 0.8241 - val_loss: 0.4902 - val_accuracy: 0.7652\n",
            "Epoch 20/100\n",
            "230/230 [==============================] - 1s 4ms/step - loss: 0.4118 - accuracy: 0.8168 - val_loss: 0.4905 - val_accuracy: 0.8001\n",
            "Epoch 21/100\n",
            "230/230 [==============================] - 1s 4ms/step - loss: 0.4051 - accuracy: 0.8221 - val_loss: 0.5066 - val_accuracy: 0.7818\n",
            "Epoch 22/100\n",
            "230/230 [==============================] - 1s 5ms/step - loss: 0.4043 - accuracy: 0.8270 - val_loss: 0.4790 - val_accuracy: 0.8093\n",
            "Epoch 23/100\n",
            "230/230 [==============================] - 1s 4ms/step - loss: 0.4005 - accuracy: 0.8283 - val_loss: 0.4548 - val_accuracy: 0.8320\n",
            "Epoch 24/100\n",
            "230/230 [==============================] - 1s 4ms/step - loss: 0.4003 - accuracy: 0.8275 - val_loss: 0.5510 - val_accuracy: 0.7441\n",
            "Epoch 25/100\n",
            "230/230 [==============================] - 1s 5ms/step - loss: 0.4004 - accuracy: 0.8224 - val_loss: 0.4354 - val_accuracy: 0.8392\n",
            "Epoch 26/100\n",
            "230/230 [==============================] - 1s 5ms/step - loss: 0.3972 - accuracy: 0.8236 - val_loss: 0.4566 - val_accuracy: 0.8361\n",
            "Epoch 27/100\n",
            "230/230 [==============================] - 1s 5ms/step - loss: 0.3865 - accuracy: 0.8358 - val_loss: 0.4578 - val_accuracy: 0.8208\n",
            "Epoch 28/100\n",
            "230/230 [==============================] - 1s 4ms/step - loss: 0.3897 - accuracy: 0.8300 - val_loss: 0.4550 - val_accuracy: 0.8178\n",
            "Epoch 29/100\n",
            "230/230 [==============================] - 1s 4ms/step - loss: 0.3878 - accuracy: 0.8320 - val_loss: 0.4585 - val_accuracy: 0.8022\n",
            "Epoch 30/100\n",
            "230/230 [==============================] - 1s 5ms/step - loss: 0.3899 - accuracy: 0.8297 - val_loss: 0.4593 - val_accuracy: 0.8263\n",
            "Epoch 31/100\n",
            "230/230 [==============================] - 1s 5ms/step - loss: 0.3822 - accuracy: 0.8349 - val_loss: 0.4357 - val_accuracy: 0.8585\n",
            "Epoch 32/100\n",
            "230/230 [==============================] - 1s 4ms/step - loss: 0.3769 - accuracy: 0.8358 - val_loss: 0.4326 - val_accuracy: 0.8558\n",
            "Epoch 33/100\n",
            "230/230 [==============================] - 1s 5ms/step - loss: 0.3803 - accuracy: 0.8371 - val_loss: 0.4367 - val_accuracy: 0.8531\n",
            "Epoch 34/100\n",
            "230/230 [==============================] - 1s 5ms/step - loss: 0.3792 - accuracy: 0.8360 - val_loss: 0.5251 - val_accuracy: 0.7788\n",
            "Epoch 35/100\n",
            "230/230 [==============================] - 1s 5ms/step - loss: 0.3792 - accuracy: 0.8358 - val_loss: 0.4216 - val_accuracy: 0.8415\n",
            "Epoch 36/100\n",
            "230/230 [==============================] - 1s 5ms/step - loss: 0.3804 - accuracy: 0.8303 - val_loss: 0.4749 - val_accuracy: 0.8327\n",
            "Epoch 37/100\n",
            "230/230 [==============================] - 1s 5ms/step - loss: 0.3775 - accuracy: 0.8351 - val_loss: 0.4404 - val_accuracy: 0.8395\n",
            "Epoch 38/100\n",
            "230/230 [==============================] - 1s 5ms/step - loss: 0.3723 - accuracy: 0.8405 - val_loss: 0.4765 - val_accuracy: 0.8137\n",
            "Epoch 39/100\n",
            "230/230 [==============================] - 1s 5ms/step - loss: 0.3774 - accuracy: 0.8303 - val_loss: 0.4289 - val_accuracy: 0.8582\n",
            "Epoch 40/100\n",
            "230/230 [==============================] - 1s 4ms/step - loss: 0.3699 - accuracy: 0.8425 - val_loss: 0.4523 - val_accuracy: 0.8310\n",
            "Epoch 41/100\n",
            "230/230 [==============================] - 1s 5ms/step - loss: 0.3800 - accuracy: 0.8334 - val_loss: 0.4463 - val_accuracy: 0.8548\n",
            "Epoch 42/100\n",
            "230/230 [==============================] - 1s 4ms/step - loss: 0.3646 - accuracy: 0.8444 - val_loss: 0.4551 - val_accuracy: 0.8205\n",
            "Epoch 43/100\n",
            "230/230 [==============================] - 1s 4ms/step - loss: 0.3675 - accuracy: 0.8448 - val_loss: 0.4409 - val_accuracy: 0.8409\n",
            "Epoch 44/100\n",
            "230/230 [==============================] - 1s 5ms/step - loss: 0.3613 - accuracy: 0.8478 - val_loss: 0.4325 - val_accuracy: 0.8439\n",
            "Epoch 45/100\n",
            "230/230 [==============================] - 1s 4ms/step - loss: 0.3633 - accuracy: 0.8434 - val_loss: 0.4156 - val_accuracy: 0.8622\n",
            "Epoch 46/100\n",
            "230/230 [==============================] - 1s 5ms/step - loss: 0.3598 - accuracy: 0.8449 - val_loss: 0.4856 - val_accuracy: 0.8358\n",
            "Epoch 47/100\n",
            "230/230 [==============================] - 1s 4ms/step - loss: 0.3653 - accuracy: 0.8419 - val_loss: 0.5018 - val_accuracy: 0.8185\n",
            "Epoch 48/100\n",
            "230/230 [==============================] - 1s 5ms/step - loss: 0.3689 - accuracy: 0.8409 - val_loss: 0.4851 - val_accuracy: 0.8171\n",
            "Epoch 49/100\n",
            "230/230 [==============================] - 1s 4ms/step - loss: 0.3644 - accuracy: 0.8436 - val_loss: 0.4323 - val_accuracy: 0.8483\n",
            "Epoch 50/100\n",
            "230/230 [==============================] - 1s 4ms/step - loss: 0.3648 - accuracy: 0.8405 - val_loss: 0.4356 - val_accuracy: 0.8487\n",
            "Epoch 51/100\n",
            "230/230 [==============================] - 1s 4ms/step - loss: 0.3594 - accuracy: 0.8451 - val_loss: 0.4506 - val_accuracy: 0.8490\n",
            "Epoch 52/100\n",
            "230/230 [==============================] - 1s 4ms/step - loss: 0.3571 - accuracy: 0.8475 - val_loss: 0.4257 - val_accuracy: 0.8449\n",
            "Epoch 53/100\n",
            "230/230 [==============================] - 1s 4ms/step - loss: 0.3577 - accuracy: 0.8429 - val_loss: 0.4435 - val_accuracy: 0.8585\n",
            "Epoch 54/100\n",
            "230/230 [==============================] - 1s 4ms/step - loss: 0.3570 - accuracy: 0.8477 - val_loss: 0.4631 - val_accuracy: 0.8276\n",
            "Epoch 55/100\n",
            "230/230 [==============================] - 1s 5ms/step - loss: 0.3580 - accuracy: 0.8451 - val_loss: 0.4337 - val_accuracy: 0.8354\n",
            "Epoch 56/100\n",
            "230/230 [==============================] - 1s 5ms/step - loss: 0.3544 - accuracy: 0.8467 - val_loss: 0.4498 - val_accuracy: 0.8537\n",
            "Epoch 57/100\n",
            "230/230 [==============================] - 1s 5ms/step - loss: 0.3541 - accuracy: 0.8448 - val_loss: 0.4238 - val_accuracy: 0.8646\n",
            "Epoch 58/100\n",
            "230/230 [==============================] - 1s 4ms/step - loss: 0.3523 - accuracy: 0.8520 - val_loss: 0.4862 - val_accuracy: 0.8056\n",
            "Epoch 59/100\n",
            "230/230 [==============================] - 1s 4ms/step - loss: 0.3495 - accuracy: 0.8497 - val_loss: 0.4926 - val_accuracy: 0.8256\n",
            "Epoch 60/100\n",
            "230/230 [==============================] - 1s 4ms/step - loss: 0.3514 - accuracy: 0.8482 - val_loss: 0.4413 - val_accuracy: 0.8371\n",
            "Epoch 61/100\n",
            "230/230 [==============================] - 1s 5ms/step - loss: 0.3516 - accuracy: 0.8478 - val_loss: 0.5068 - val_accuracy: 0.8018\n",
            "Epoch 62/100\n",
            "230/230 [==============================] - 1s 5ms/step - loss: 0.3544 - accuracy: 0.8451 - val_loss: 0.4797 - val_accuracy: 0.8042\n",
            "Epoch 63/100\n",
            "230/230 [==============================] - 1s 5ms/step - loss: 0.3536 - accuracy: 0.8432 - val_loss: 0.4388 - val_accuracy: 0.8551\n",
            "Epoch 64/100\n",
            "230/230 [==============================] - 1s 5ms/step - loss: 0.3480 - accuracy: 0.8487 - val_loss: 0.4577 - val_accuracy: 0.8283\n",
            "Epoch 65/100\n",
            "230/230 [==============================] - 1s 4ms/step - loss: 0.3482 - accuracy: 0.8478 - val_loss: 0.4990 - val_accuracy: 0.7971\n",
            "Epoch 66/100\n",
            "230/230 [==============================] - 1s 4ms/step - loss: 0.3533 - accuracy: 0.8443 - val_loss: 0.4232 - val_accuracy: 0.8487\n",
            "Epoch 67/100\n",
            "230/230 [==============================] - 1s 5ms/step - loss: 0.3443 - accuracy: 0.8528 - val_loss: 0.4273 - val_accuracy: 0.8575\n",
            "Epoch 68/100\n",
            "230/230 [==============================] - 1s 5ms/step - loss: 0.3430 - accuracy: 0.8534 - val_loss: 0.4203 - val_accuracy: 0.8595\n",
            "Epoch 69/100\n",
            "230/230 [==============================] - 1s 5ms/step - loss: 0.3487 - accuracy: 0.8485 - val_loss: 0.4577 - val_accuracy: 0.8174\n",
            "Epoch 70/100\n",
            "230/230 [==============================] - 1s 5ms/step - loss: 0.3465 - accuracy: 0.8494 - val_loss: 0.4255 - val_accuracy: 0.8514\n",
            "Epoch 71/100\n",
            "230/230 [==============================] - 1s 4ms/step - loss: 0.3436 - accuracy: 0.8547 - val_loss: 0.4277 - val_accuracy: 0.8337\n",
            "Epoch 72/100\n",
            "230/230 [==============================] - 1s 5ms/step - loss: 0.3467 - accuracy: 0.8532 - val_loss: 0.4711 - val_accuracy: 0.8453\n",
            "Epoch 73/100\n",
            "230/230 [==============================] - 1s 4ms/step - loss: 0.3431 - accuracy: 0.8516 - val_loss: 0.4498 - val_accuracy: 0.8395\n",
            "Epoch 74/100\n",
            "230/230 [==============================] - 1s 4ms/step - loss: 0.3437 - accuracy: 0.8516 - val_loss: 0.4251 - val_accuracy: 0.8626\n",
            "Epoch 75/100\n",
            "230/230 [==============================] - 1s 4ms/step - loss: 0.3455 - accuracy: 0.8496 - val_loss: 0.4864 - val_accuracy: 0.8069\n",
            "Epoch 76/100\n",
            "230/230 [==============================] - 1s 5ms/step - loss: 0.3417 - accuracy: 0.8521 - val_loss: 0.5087 - val_accuracy: 0.7940\n",
            "Epoch 77/100\n",
            "230/230 [==============================] - 1s 5ms/step - loss: 0.3424 - accuracy: 0.8527 - val_loss: 0.4469 - val_accuracy: 0.8459\n",
            "Epoch 78/100\n",
            "230/230 [==============================] - 1s 4ms/step - loss: 0.3411 - accuracy: 0.8464 - val_loss: 0.4868 - val_accuracy: 0.8219\n",
            "Epoch 79/100\n",
            "230/230 [==============================] - 1s 5ms/step - loss: 0.3418 - accuracy: 0.8513 - val_loss: 0.4677 - val_accuracy: 0.8368\n",
            "Epoch 80/100\n",
            "230/230 [==============================] - 1s 5ms/step - loss: 0.3390 - accuracy: 0.8527 - val_loss: 0.4335 - val_accuracy: 0.8527\n",
            "Epoch 81/100\n",
            "230/230 [==============================] - 1s 5ms/step - loss: 0.3381 - accuracy: 0.8560 - val_loss: 0.4995 - val_accuracy: 0.8249\n",
            "Epoch 82/100\n",
            "230/230 [==============================] - 1s 5ms/step - loss: 0.3402 - accuracy: 0.8498 - val_loss: 0.4924 - val_accuracy: 0.8198\n",
            "Epoch 83/100\n",
            "230/230 [==============================] - 1s 5ms/step - loss: 0.3351 - accuracy: 0.8558 - val_loss: 0.4409 - val_accuracy: 0.8398\n",
            "Epoch 84/100\n",
            "230/230 [==============================] - 1s 5ms/step - loss: 0.3380 - accuracy: 0.8523 - val_loss: 0.4474 - val_accuracy: 0.8449\n",
            "Epoch 85/100\n",
            "230/230 [==============================] - 1s 5ms/step - loss: 0.3377 - accuracy: 0.8524 - val_loss: 0.4459 - val_accuracy: 0.8405\n",
            "Epoch 86/100\n",
            "230/230 [==============================] - 1s 5ms/step - loss: 0.3332 - accuracy: 0.8568 - val_loss: 0.5463 - val_accuracy: 0.8188\n",
            "Epoch 87/100\n",
            "230/230 [==============================] - 1s 5ms/step - loss: 0.3339 - accuracy: 0.8560 - val_loss: 0.5177 - val_accuracy: 0.8181\n",
            "Epoch 88/100\n",
            "230/230 [==============================] - 1s 5ms/step - loss: 0.3381 - accuracy: 0.8579 - val_loss: 0.4338 - val_accuracy: 0.8609\n",
            "Epoch 89/100\n",
            "230/230 [==============================] - 1s 5ms/step - loss: 0.3342 - accuracy: 0.8558 - val_loss: 0.4431 - val_accuracy: 0.8497\n",
            "Epoch 90/100\n",
            "230/230 [==============================] - 1s 5ms/step - loss: 0.3378 - accuracy: 0.8486 - val_loss: 0.4383 - val_accuracy: 0.8544\n",
            "Epoch 91/100\n",
            "230/230 [==============================] - 1s 5ms/step - loss: 0.3332 - accuracy: 0.8602 - val_loss: 0.4637 - val_accuracy: 0.8252\n",
            "Epoch 92/100\n",
            "230/230 [==============================] - 1s 5ms/step - loss: 0.3324 - accuracy: 0.8614 - val_loss: 0.4434 - val_accuracy: 0.8415\n",
            "Epoch 93/100\n",
            "230/230 [==============================] - 1s 5ms/step - loss: 0.3316 - accuracy: 0.8549 - val_loss: 0.4472 - val_accuracy: 0.8388\n",
            "Epoch 94/100\n",
            "230/230 [==============================] - 1s 5ms/step - loss: 0.3346 - accuracy: 0.8527 - val_loss: 0.4228 - val_accuracy: 0.8507\n",
            "Epoch 95/100\n",
            "230/230 [==============================] - 1s 5ms/step - loss: 0.3350 - accuracy: 0.8519 - val_loss: 0.4311 - val_accuracy: 0.8327\n",
            "Epoch 96/100\n",
            "230/230 [==============================] - 1s 5ms/step - loss: 0.3369 - accuracy: 0.8532 - val_loss: 0.4675 - val_accuracy: 0.8297\n",
            "Epoch 97/100\n",
            "230/230 [==============================] - 1s 5ms/step - loss: 0.3379 - accuracy: 0.8580 - val_loss: 0.4410 - val_accuracy: 0.8436\n",
            "Epoch 98/100\n",
            "230/230 [==============================] - 1s 5ms/step - loss: 0.3298 - accuracy: 0.8624 - val_loss: 0.4787 - val_accuracy: 0.8409\n",
            "Epoch 99/100\n",
            "230/230 [==============================] - 1s 5ms/step - loss: 0.3306 - accuracy: 0.8546 - val_loss: 0.4929 - val_accuracy: 0.8331\n",
            "Epoch 100/100\n",
            "230/230 [==============================] - 1s 5ms/step - loss: 0.3337 - accuracy: 0.8557 - val_loss: 0.4425 - val_accuracy: 0.8524\n"
          ],
          "name": "stdout"
        }
      ]
    },
    {
      "cell_type": "code",
      "metadata": {
        "colab": {
          "base_uri": "https://localhost:8080/"
        },
        "id": "WIW0aqbdSv1E",
        "outputId": "d9fb1503-e023-48d7-f473-630b088a9f8e"
      },
      "source": [
        "#part2 - model_2 - printing the summary\n",
        "\n",
        "model_2.summary()"
      ],
      "execution_count": 17,
      "outputs": [
        {
          "output_type": "stream",
          "text": [
            "Model: \"sequential_1\"\n",
            "_________________________________________________________________\n",
            "Layer (type)                 Output Shape              Param #   \n",
            "=================================================================\n",
            "conv1d (Conv1D)              (None, 125, 32)           416       \n",
            "_________________________________________________________________\n",
            "batch_normalization (BatchNo (None, 125, 32)           128       \n",
            "_________________________________________________________________\n",
            "dense_2 (Dense)              (None, 125, 100)          3300      \n",
            "_________________________________________________________________\n",
            "global_average_pooling1d (Gl (None, 100)               0         \n",
            "_________________________________________________________________\n",
            "dense_3 (Dense)              (None, 6)                 606       \n",
            "=================================================================\n",
            "Total params: 4,450\n",
            "Trainable params: 4,386\n",
            "Non-trainable params: 64\n",
            "_________________________________________________________________\n"
          ],
          "name": "stdout"
        }
      ]
    },
    {
      "cell_type": "code",
      "metadata": {
        "id": "xauBI3txrsN4",
        "colab": {
          "base_uri": "https://localhost:8080/",
          "height": 295
        },
        "outputId": "559133a9-2fe2-4cfe-8dd8-2ad64ed8e10f"
      },
      "source": [
        "#part2 - model_2 - plotting the loss\n",
        "\n",
        "plt.plot(history_2.history['loss'])\n",
        "plt.plot(history_2.history['val_loss'])\n",
        "plt.title('CNN Loss - Model_2')\n",
        "plt.xlabel('Iterations')\n",
        "plt.ylabel('Loss')\n",
        "plt.legend(['train', 'test'], loc='upper left');"
      ],
      "execution_count": 18,
      "outputs": [
        {
          "output_type": "display_data",
          "data": {
            "image/png": "[encoded data removed]",
            "text/plain": [
              "<Figure size 432x288 with 1 Axes>"
            ]
          },
          "metadata": {
            "tags": [],
            "needs_background": "light"
          }
        }
      ]
    },
    {
      "cell_type": "code",
      "metadata": {
        "id": "jrX-p-q2sTvQ",
        "colab": {
          "base_uri": "https://localhost:8080/",
          "height": 295
        },
        "outputId": "430885e3-3b39-4172-eba5-408674df158c"
      },
      "source": [
        "#part2 - model_2 - plotting the accuracy\n",
        "\n",
        "plt.plot(history_2.history['accuracy'])\n",
        "plt.plot(history_2.history['val_accuracy'])\n",
        "plt.title('CNN Accuracy - Model_2')\n",
        "plt.xlabel('Iterations')\n",
        "plt.ylabel('Accuracy')\n",
        "plt.legend(['train', 'test'], loc='upper left');"
      ],
      "execution_count": 19,
      "outputs": [
        {
          "output_type": "display_data",
          "data": {
            "image/png": "[encoded data removed]",
            "text/plain": [
              "<Figure size 432x288 with 1 Axes>"
            ]
          },
          "metadata": {
            "tags": [],
            "needs_background": "light"
          }
        }
      ]
    },
    {
      "cell_type": "code",
      "metadata": {
        "colab": {
          "base_uri": "https://localhost:8080/"
        },
        "id": "6sM6WAOfo5mq",
        "outputId": "b63930cd-da16-4534-ca96-13a6bfde7f96"
      },
      "source": [
        "#part2 - model_3 - enhancing the CNN\n",
        "\n",
        "model_3 = keras.Sequential([\n",
        "  keras.layers.Conv1D(filters=96, kernel_size=2, activation='relu', \n",
        "                      input_shape=(128,3)),\n",
        "  keras.layers.Conv1D(filters=96, kernel_size=2, activation='relu'),\n",
        "  keras.layers.BatchNormalization(),\n",
        "  keras.layers.Dense(100, activation='relu'),\n",
        "  keras.layers.Dropout(0.5),\n",
        "  keras.layers.GlobalAveragePooling1D(),\n",
        "  keras.layers.Dense(6, activation='softmax') \n",
        "])\n",
        "\n",
        "#part2 - model_3 - compiling the model\n",
        "\n",
        "model_3.compile(optimizer='adam',\n",
        "              loss='sparse_categorical_crossentropy',\n",
        "              metrics=['accuracy'])\n",
        "\n",
        "#part2 - model_3 - fitting the model\n",
        "\n",
        "history_3 = model_3.fit(xtrain, ytrain, epochs=100, \n",
        "                        validation_data=(xtest, ytest))"
      ],
      "execution_count": 20,
      "outputs": [
        {
          "output_type": "stream",
          "text": [
            "Epoch 1/100\n",
            "230/230 [==============================] - 3s 7ms/step - loss: 0.8704 - accuracy: 0.5820 - val_loss: 1.2643 - val_accuracy: 0.6373\n",
            "Epoch 2/100\n",
            "230/230 [==============================] - 1s 5ms/step - loss: 0.6439 - accuracy: 0.6863 - val_loss: 0.7888 - val_accuracy: 0.6196\n",
            "Epoch 3/100\n",
            "230/230 [==============================] - 1s 5ms/step - loss: 0.5621 - accuracy: 0.7212 - val_loss: 0.5891 - val_accuracy: 0.7574\n",
            "Epoch 4/100\n",
            "230/230 [==============================] - 1s 5ms/step - loss: 0.5168 - accuracy: 0.7508 - val_loss: 0.4721 - val_accuracy: 0.8110\n",
            "Epoch 5/100\n",
            "230/230 [==============================] - 1s 5ms/step - loss: 0.4588 - accuracy: 0.7920 - val_loss: 0.4990 - val_accuracy: 0.7733\n",
            "Epoch 6/100\n",
            "230/230 [==============================] - 1s 5ms/step - loss: 0.4207 - accuracy: 0.8104 - val_loss: 0.4634 - val_accuracy: 0.7764\n",
            "Epoch 7/100\n",
            "230/230 [==============================] - 1s 5ms/step - loss: 0.3966 - accuracy: 0.8259 - val_loss: 0.4438 - val_accuracy: 0.8062\n",
            "Epoch 8/100\n",
            "230/230 [==============================] - 1s 5ms/step - loss: 0.3779 - accuracy: 0.8347 - val_loss: 0.4093 - val_accuracy: 0.8565\n",
            "Epoch 9/100\n",
            "230/230 [==============================] - 1s 5ms/step - loss: 0.3628 - accuracy: 0.8422 - val_loss: 0.4262 - val_accuracy: 0.8161\n",
            "Epoch 10/100\n",
            "230/230 [==============================] - 1s 5ms/step - loss: 0.3601 - accuracy: 0.8419 - val_loss: 0.4168 - val_accuracy: 0.8239\n",
            "Epoch 11/100\n",
            "230/230 [==============================] - 1s 5ms/step - loss: 0.3511 - accuracy: 0.8489 - val_loss: 0.4476 - val_accuracy: 0.8134\n",
            "Epoch 12/100\n",
            "230/230 [==============================] - 1s 5ms/step - loss: 0.3524 - accuracy: 0.8459 - val_loss: 0.4961 - val_accuracy: 0.7910\n",
            "Epoch 13/100\n",
            "230/230 [==============================] - 1s 5ms/step - loss: 0.3365 - accuracy: 0.8551 - val_loss: 0.4236 - val_accuracy: 0.8286\n",
            "Epoch 14/100\n",
            "230/230 [==============================] - 1s 5ms/step - loss: 0.3348 - accuracy: 0.8555 - val_loss: 0.5140 - val_accuracy: 0.8052\n",
            "Epoch 15/100\n",
            "230/230 [==============================] - 1s 5ms/step - loss: 0.3307 - accuracy: 0.8550 - val_loss: 0.3873 - val_accuracy: 0.8426\n",
            "Epoch 16/100\n",
            "230/230 [==============================] - 1s 5ms/step - loss: 0.3234 - accuracy: 0.8609 - val_loss: 0.4250 - val_accuracy: 0.8493\n",
            "Epoch 17/100\n",
            "230/230 [==============================] - 1s 5ms/step - loss: 0.3235 - accuracy: 0.8602 - val_loss: 0.4706 - val_accuracy: 0.7940\n",
            "Epoch 18/100\n",
            "230/230 [==============================] - 1s 5ms/step - loss: 0.3246 - accuracy: 0.8609 - val_loss: 0.4126 - val_accuracy: 0.8483\n",
            "Epoch 19/100\n",
            "230/230 [==============================] - 1s 5ms/step - loss: 0.3201 - accuracy: 0.8587 - val_loss: 0.3908 - val_accuracy: 0.8378\n",
            "Epoch 20/100\n",
            "230/230 [==============================] - 1s 5ms/step - loss: 0.3172 - accuracy: 0.8626 - val_loss: 0.4305 - val_accuracy: 0.8385\n",
            "Epoch 21/100\n",
            "230/230 [==============================] - 1s 5ms/step - loss: 0.3117 - accuracy: 0.8626 - val_loss: 0.4242 - val_accuracy: 0.8541\n",
            "Epoch 22/100\n",
            "230/230 [==============================] - 1s 5ms/step - loss: 0.3066 - accuracy: 0.8656 - val_loss: 0.4417 - val_accuracy: 0.8286\n",
            "Epoch 23/100\n",
            "230/230 [==============================] - 1s 5ms/step - loss: 0.3106 - accuracy: 0.8633 - val_loss: 0.4387 - val_accuracy: 0.8385\n",
            "Epoch 24/100\n",
            "230/230 [==============================] - 1s 5ms/step - loss: 0.3121 - accuracy: 0.8660 - val_loss: 0.4784 - val_accuracy: 0.8232\n",
            "Epoch 25/100\n",
            "230/230 [==============================] - 1s 5ms/step - loss: 0.3042 - accuracy: 0.8683 - val_loss: 0.4872 - val_accuracy: 0.8219\n",
            "Epoch 26/100\n",
            "230/230 [==============================] - 1s 5ms/step - loss: 0.3042 - accuracy: 0.8683 - val_loss: 0.4746 - val_accuracy: 0.8147\n",
            "Epoch 27/100\n",
            "230/230 [==============================] - 1s 5ms/step - loss: 0.3002 - accuracy: 0.8711 - val_loss: 0.4267 - val_accuracy: 0.8246\n",
            "Epoch 28/100\n",
            "230/230 [==============================] - 1s 5ms/step - loss: 0.3042 - accuracy: 0.8648 - val_loss: 0.4513 - val_accuracy: 0.8361\n",
            "Epoch 29/100\n",
            "230/230 [==============================] - 1s 5ms/step - loss: 0.3017 - accuracy: 0.8664 - val_loss: 0.4169 - val_accuracy: 0.8544\n",
            "Epoch 30/100\n",
            "230/230 [==============================] - 1s 5ms/step - loss: 0.2963 - accuracy: 0.8708 - val_loss: 0.4034 - val_accuracy: 0.8521\n",
            "Epoch 31/100\n",
            "230/230 [==============================] - 1s 5ms/step - loss: 0.2959 - accuracy: 0.8724 - val_loss: 0.4225 - val_accuracy: 0.8602\n",
            "Epoch 32/100\n",
            "230/230 [==============================] - 1s 5ms/step - loss: 0.2935 - accuracy: 0.8742 - val_loss: 0.4287 - val_accuracy: 0.8385\n",
            "Epoch 33/100\n",
            "230/230 [==============================] - 1s 5ms/step - loss: 0.2972 - accuracy: 0.8685 - val_loss: 0.4844 - val_accuracy: 0.8466\n",
            "Epoch 34/100\n",
            "230/230 [==============================] - 1s 5ms/step - loss: 0.2885 - accuracy: 0.8743 - val_loss: 0.4652 - val_accuracy: 0.8402\n",
            "Epoch 35/100\n",
            "230/230 [==============================] - 1s 5ms/step - loss: 0.3024 - accuracy: 0.8682 - val_loss: 0.4534 - val_accuracy: 0.8507\n",
            "Epoch 36/100\n",
            "230/230 [==============================] - 1s 5ms/step - loss: 0.2887 - accuracy: 0.8739 - val_loss: 0.4408 - val_accuracy: 0.8483\n",
            "Epoch 37/100\n",
            "230/230 [==============================] - 1s 5ms/step - loss: 0.2816 - accuracy: 0.8766 - val_loss: 0.4981 - val_accuracy: 0.8235\n",
            "Epoch 38/100\n",
            "230/230 [==============================] - 1s 5ms/step - loss: 0.2929 - accuracy: 0.8667 - val_loss: 0.5772 - val_accuracy: 0.7920\n",
            "Epoch 39/100\n",
            "230/230 [==============================] - 1s 5ms/step - loss: 0.2918 - accuracy: 0.8728 - val_loss: 0.4728 - val_accuracy: 0.8473\n",
            "Epoch 40/100\n",
            "230/230 [==============================] - 1s 5ms/step - loss: 0.2824 - accuracy: 0.8794 - val_loss: 0.4652 - val_accuracy: 0.8354\n",
            "Epoch 41/100\n",
            "230/230 [==============================] - 1s 5ms/step - loss: 0.2797 - accuracy: 0.8818 - val_loss: 0.8763 - val_accuracy: 0.7635\n",
            "Epoch 42/100\n",
            "230/230 [==============================] - 1s 5ms/step - loss: 0.2804 - accuracy: 0.8787 - val_loss: 0.4362 - val_accuracy: 0.8707\n",
            "Epoch 43/100\n",
            "230/230 [==============================] - 1s 5ms/step - loss: 0.2831 - accuracy: 0.8772 - val_loss: 0.6429 - val_accuracy: 0.8140\n",
            "Epoch 44/100\n",
            "230/230 [==============================] - 1s 5ms/step - loss: 0.2795 - accuracy: 0.8791 - val_loss: 0.5174 - val_accuracy: 0.8521\n",
            "Epoch 45/100\n",
            "230/230 [==============================] - 1s 5ms/step - loss: 0.2760 - accuracy: 0.8808 - val_loss: 0.4463 - val_accuracy: 0.8426\n",
            "Epoch 46/100\n",
            "230/230 [==============================] - 1s 5ms/step - loss: 0.2843 - accuracy: 0.8743 - val_loss: 0.4593 - val_accuracy: 0.8558\n",
            "Epoch 47/100\n",
            "230/230 [==============================] - 1s 5ms/step - loss: 0.2753 - accuracy: 0.8780 - val_loss: 0.5101 - val_accuracy: 0.8168\n",
            "Epoch 48/100\n",
            "230/230 [==============================] - 1s 5ms/step - loss: 0.2699 - accuracy: 0.8821 - val_loss: 0.5117 - val_accuracy: 0.8242\n",
            "Epoch 49/100\n",
            "230/230 [==============================] - 1s 5ms/step - loss: 0.2712 - accuracy: 0.8838 - val_loss: 0.4220 - val_accuracy: 0.8639\n",
            "Epoch 50/100\n",
            "230/230 [==============================] - 1s 5ms/step - loss: 0.2718 - accuracy: 0.8829 - val_loss: 0.4281 - val_accuracy: 0.8697\n",
            "Epoch 51/100\n",
            "230/230 [==============================] - 1s 5ms/step - loss: 0.2754 - accuracy: 0.8795 - val_loss: 0.4710 - val_accuracy: 0.8551\n",
            "Epoch 52/100\n",
            "230/230 [==============================] - 1s 5ms/step - loss: 0.2731 - accuracy: 0.8817 - val_loss: 0.5261 - val_accuracy: 0.8208\n",
            "Epoch 53/100\n",
            "230/230 [==============================] - 1s 5ms/step - loss: 0.2719 - accuracy: 0.8836 - val_loss: 0.6093 - val_accuracy: 0.8334\n",
            "Epoch 54/100\n",
            "230/230 [==============================] - 1s 5ms/step - loss: 0.2734 - accuracy: 0.8823 - val_loss: 0.4635 - val_accuracy: 0.8548\n",
            "Epoch 55/100\n",
            "230/230 [==============================] - 1s 5ms/step - loss: 0.2755 - accuracy: 0.8785 - val_loss: 0.4708 - val_accuracy: 0.8405\n",
            "Epoch 56/100\n",
            "230/230 [==============================] - 1s 5ms/step - loss: 0.2707 - accuracy: 0.8845 - val_loss: 0.4977 - val_accuracy: 0.8575\n",
            "Epoch 57/100\n",
            "230/230 [==============================] - 1s 5ms/step - loss: 0.2626 - accuracy: 0.8844 - val_loss: 0.5768 - val_accuracy: 0.8168\n",
            "Epoch 58/100\n",
            "230/230 [==============================] - 1s 5ms/step - loss: 0.2765 - accuracy: 0.8828 - val_loss: 0.5258 - val_accuracy: 0.8493\n",
            "Epoch 59/100\n",
            "230/230 [==============================] - 1s 5ms/step - loss: 0.2666 - accuracy: 0.8863 - val_loss: 0.5437 - val_accuracy: 0.8317\n",
            "Epoch 60/100\n",
            "230/230 [==============================] - 1s 5ms/step - loss: 0.2670 - accuracy: 0.8871 - val_loss: 0.4923 - val_accuracy: 0.8493\n",
            "Epoch 61/100\n",
            "230/230 [==============================] - 1s 5ms/step - loss: 0.2669 - accuracy: 0.8856 - val_loss: 0.5858 - val_accuracy: 0.8259\n",
            "Epoch 62/100\n",
            "230/230 [==============================] - 1s 5ms/step - loss: 0.2649 - accuracy: 0.8875 - val_loss: 0.5103 - val_accuracy: 0.8426\n",
            "Epoch 63/100\n",
            "230/230 [==============================] - 1s 5ms/step - loss: 0.2585 - accuracy: 0.8872 - val_loss: 0.5253 - val_accuracy: 0.8286\n",
            "Epoch 64/100\n",
            "230/230 [==============================] - 1s 5ms/step - loss: 0.2643 - accuracy: 0.8862 - val_loss: 0.5775 - val_accuracy: 0.8062\n",
            "Epoch 65/100\n",
            "230/230 [==============================] - 1s 5ms/step - loss: 0.2684 - accuracy: 0.8845 - val_loss: 0.4804 - val_accuracy: 0.8371\n",
            "Epoch 66/100\n",
            "230/230 [==============================] - 1s 5ms/step - loss: 0.2669 - accuracy: 0.8844 - val_loss: 0.5750 - val_accuracy: 0.8344\n",
            "Epoch 67/100\n",
            "230/230 [==============================] - 1s 5ms/step - loss: 0.2582 - accuracy: 0.8912 - val_loss: 0.4977 - val_accuracy: 0.8446\n",
            "Epoch 68/100\n",
            "230/230 [==============================] - 1s 5ms/step - loss: 0.2571 - accuracy: 0.8897 - val_loss: 0.4717 - val_accuracy: 0.8599\n",
            "Epoch 69/100\n",
            "230/230 [==============================] - 1s 5ms/step - loss: 0.2572 - accuracy: 0.8942 - val_loss: 0.4603 - val_accuracy: 0.8480\n",
            "Epoch 70/100\n",
            "230/230 [==============================] - 1s 5ms/step - loss: 0.2582 - accuracy: 0.8872 - val_loss: 0.5653 - val_accuracy: 0.8456\n",
            "Epoch 71/100\n",
            "230/230 [==============================] - 1s 5ms/step - loss: 0.2624 - accuracy: 0.8889 - val_loss: 0.4098 - val_accuracy: 0.8653\n",
            "Epoch 72/100\n",
            "230/230 [==============================] - 1s 5ms/step - loss: 0.2621 - accuracy: 0.8855 - val_loss: 0.5336 - val_accuracy: 0.8215\n",
            "Epoch 73/100\n",
            "230/230 [==============================] - 1s 5ms/step - loss: 0.2573 - accuracy: 0.8885 - val_loss: 0.5712 - val_accuracy: 0.8235\n",
            "Epoch 74/100\n",
            "230/230 [==============================] - 1s 5ms/step - loss: 0.2572 - accuracy: 0.8881 - val_loss: 0.5131 - val_accuracy: 0.8456\n",
            "Epoch 75/100\n",
            "230/230 [==============================] - 1s 5ms/step - loss: 0.2535 - accuracy: 0.8917 - val_loss: 0.5101 - val_accuracy: 0.8317\n",
            "Epoch 76/100\n",
            "230/230 [==============================] - 1s 5ms/step - loss: 0.2516 - accuracy: 0.8927 - val_loss: 0.4936 - val_accuracy: 0.8636\n",
            "Epoch 77/100\n",
            "230/230 [==============================] - 1s 5ms/step - loss: 0.2506 - accuracy: 0.8915 - val_loss: 0.4698 - val_accuracy: 0.8592\n",
            "Epoch 78/100\n",
            "230/230 [==============================] - 1s 5ms/step - loss: 0.2526 - accuracy: 0.8930 - val_loss: 0.4895 - val_accuracy: 0.8585\n",
            "Epoch 79/100\n",
            "230/230 [==============================] - 1s 5ms/step - loss: 0.2525 - accuracy: 0.8936 - val_loss: 0.4585 - val_accuracy: 0.8521\n",
            "Epoch 80/100\n",
            "230/230 [==============================] - 1s 5ms/step - loss: 0.2511 - accuracy: 0.8954 - val_loss: 0.4950 - val_accuracy: 0.8551\n",
            "Epoch 81/100\n",
            "230/230 [==============================] - 1s 5ms/step - loss: 0.2468 - accuracy: 0.8974 - val_loss: 0.5386 - val_accuracy: 0.8419\n",
            "Epoch 82/100\n",
            "230/230 [==============================] - 1s 5ms/step - loss: 0.2473 - accuracy: 0.8989 - val_loss: 0.6598 - val_accuracy: 0.8280\n",
            "Epoch 83/100\n",
            "230/230 [==============================] - 1s 5ms/step - loss: 0.2488 - accuracy: 0.8958 - val_loss: 0.4786 - val_accuracy: 0.8364\n",
            "Epoch 84/100\n",
            "230/230 [==============================] - 1s 5ms/step - loss: 0.2442 - accuracy: 0.8998 - val_loss: 0.4720 - val_accuracy: 0.8609\n",
            "Epoch 85/100\n",
            "230/230 [==============================] - 1s 5ms/step - loss: 0.2474 - accuracy: 0.8942 - val_loss: 0.5947 - val_accuracy: 0.8344\n",
            "Epoch 86/100\n",
            "230/230 [==============================] - 1s 5ms/step - loss: 0.2459 - accuracy: 0.8953 - val_loss: 0.4885 - val_accuracy: 0.8646\n",
            "Epoch 87/100\n",
            "230/230 [==============================] - 1s 5ms/step - loss: 0.2490 - accuracy: 0.8936 - val_loss: 0.5219 - val_accuracy: 0.8497\n",
            "Epoch 88/100\n",
            "230/230 [==============================] - 1s 5ms/step - loss: 0.2535 - accuracy: 0.8947 - val_loss: 0.6243 - val_accuracy: 0.8334\n",
            "Epoch 89/100\n",
            "230/230 [==============================] - 1s 5ms/step - loss: 0.2455 - accuracy: 0.8953 - val_loss: 0.5655 - val_accuracy: 0.8347\n",
            "Epoch 90/100\n",
            "230/230 [==============================] - 1s 5ms/step - loss: 0.2409 - accuracy: 0.9003 - val_loss: 0.5304 - val_accuracy: 0.8470\n",
            "Epoch 91/100\n",
            "230/230 [==============================] - 1s 5ms/step - loss: 0.2441 - accuracy: 0.8988 - val_loss: 0.5926 - val_accuracy: 0.8558\n",
            "Epoch 92/100\n",
            "230/230 [==============================] - 1s 5ms/step - loss: 0.2436 - accuracy: 0.8985 - val_loss: 0.5000 - val_accuracy: 0.8666\n",
            "Epoch 93/100\n",
            "230/230 [==============================] - 1s 5ms/step - loss: 0.2411 - accuracy: 0.8968 - val_loss: 0.5780 - val_accuracy: 0.8351\n",
            "Epoch 94/100\n",
            "230/230 [==============================] - 1s 5ms/step - loss: 0.2455 - accuracy: 0.8938 - val_loss: 0.5258 - val_accuracy: 0.8592\n",
            "Epoch 95/100\n",
            "230/230 [==============================] - 1s 5ms/step - loss: 0.2360 - accuracy: 0.8998 - val_loss: 0.5485 - val_accuracy: 0.8432\n",
            "Epoch 96/100\n",
            "230/230 [==============================] - 1s 5ms/step - loss: 0.2395 - accuracy: 0.8973 - val_loss: 0.4902 - val_accuracy: 0.8649\n",
            "Epoch 97/100\n",
            "230/230 [==============================] - 1s 5ms/step - loss: 0.2394 - accuracy: 0.8995 - val_loss: 0.5168 - val_accuracy: 0.8398\n",
            "Epoch 98/100\n",
            "230/230 [==============================] - 1s 5ms/step - loss: 0.2372 - accuracy: 0.9002 - val_loss: 0.5133 - val_accuracy: 0.8521\n",
            "Epoch 99/100\n",
            "230/230 [==============================] - 1s 5ms/step - loss: 0.2411 - accuracy: 0.8974 - val_loss: 0.8740 - val_accuracy: 0.7560\n",
            "Epoch 100/100\n",
            "230/230 [==============================] - 1s 5ms/step - loss: 0.2384 - accuracy: 0.8989 - val_loss: 0.8564 - val_accuracy: 0.8202\n"
          ],
          "name": "stdout"
        }
      ]
    },
    {
      "cell_type": "code",
      "metadata": {
        "colab": {
          "base_uri": "https://localhost:8080/",
          "height": 295
        },
        "id": "kCHvf2urqfpF",
        "outputId": "c906033c-6590-45a1-bd53-e40157b94f75"
      },
      "source": [
        "#part2 - model_3 - plotting the loss\n",
        "\n",
        "plt.plot(history_3.history['loss'])\n",
        "plt.plot(history_3.history['val_loss'])\n",
        "plt.title('CNN Loss - Model_3')\n",
        "plt.xlabel('Iterations')\n",
        "plt.ylabel('Loss')\n",
        "plt.legend(['train', 'test'], loc='upper left');"
      ],
      "execution_count": 21,
      "outputs": [
        {
          "output_type": "display_data",
          "data": {
            "image/png": "[encoded data removed]",
            "text/plain": [
              "<Figure size 432x288 with 1 Axes>"
            ]
          },
          "metadata": {
            "tags": [],
            "needs_background": "light"
          }
        }
      ]
    },
    {
      "cell_type": "code",
      "metadata": {
        "colab": {
          "base_uri": "https://localhost:8080/",
          "height": 295
        },
        "id": "kCQXrDm_qgRb",
        "outputId": "b3125800-ac9e-4c0c-ff60-7a65edb5eda4"
      },
      "source": [
        "#part2 - model_3 - plotting the accuracy\n",
        "\n",
        "plt.plot(history_3.history['accuracy'])\n",
        "plt.plot(history_3.history['val_accuracy'])\n",
        "plt.title('CNN Accuracy - Model_3')\n",
        "plt.xlabel('Iterations')\n",
        "plt.ylabel('Accuracy')\n",
        "plt.legend(['train', 'test'], loc='upper left');"
      ],
      "execution_count": 22,
      "outputs": [
        {
          "output_type": "display_data",
          "data": {
            "image/png": "[encoded data removed]",
            "text/plain": [
              "<Figure size 432x288 with 1 Axes>"
            ]
          },
          "metadata": {
            "tags": [],
            "needs_background": "light"
          }
        }
      ]
    },
    {
      "cell_type": "code",
      "metadata": {
        "colab": {
          "base_uri": "https://localhost:8080/"
        },
        "id": "JJmnxNIaS10E",
        "outputId": "b1260bcc-de6c-4589-e21a-4e893d62c07d"
      },
      "source": [
        "#part2 - model_3 - printing the summary\n",
        "\n",
        "model_3.summary()"
      ],
      "execution_count": 23,
      "outputs": [
        {
          "output_type": "stream",
          "text": [
            "Model: \"sequential_2\"\n",
            "_________________________________________________________________\n",
            "Layer (type)                 Output Shape              Param #   \n",
            "=================================================================\n",
            "conv1d_1 (Conv1D)            (None, 127, 96)           672       \n",
            "_________________________________________________________________\n",
            "conv1d_2 (Conv1D)            (None, 126, 96)           18528     \n",
            "_________________________________________________________________\n",
            "batch_normalization_1 (Batch (None, 126, 96)           384       \n",
            "_________________________________________________________________\n",
            "dense_4 (Dense)              (None, 126, 100)          9700      \n",
            "_________________________________________________________________\n",
            "dropout (Dropout)            (None, 126, 100)          0         \n",
            "_________________________________________________________________\n",
            "global_average_pooling1d_1 ( (None, 100)               0         \n",
            "_________________________________________________________________\n",
            "dense_5 (Dense)              (None, 6)                 606       \n",
            "=================================================================\n",
            "Total params: 29,890\n",
            "Trainable params: 29,698\n",
            "Non-trainable params: 192\n",
            "_________________________________________________________________\n"
          ],
          "name": "stdout"
        }
      ]
    },
    {
      "cell_type": "code",
      "metadata": {
        "colab": {
          "base_uri": "https://localhost:8080/"
        },
        "id": "G0gREXpHOgpk",
        "outputId": "c9e24fef-8c6d-4b9f-872a-3f67d07b1de7"
      },
      "source": [
        "#part3 - model_4 - creating the training set\n",
        "\n",
        "xx=np.loadtxt('/content/UCI HAR Dataset/train/Inertial Signals/body_acc_x_train.txt')\n",
        "yy=np.loadtxt('/content/UCI HAR Dataset/train/Inertial Signals/body_acc_y_train.txt')\n",
        "zz=np.loadtxt('/content/UCI HAR Dataset/train/Inertial Signals/body_acc_z_train.txt')\n",
        "xxt=np.loadtxt('/content/UCI HAR Dataset/train/Inertial Signals/total_acc_x_train.txt')\n",
        "yyt=np.loadtxt('/content/UCI HAR Dataset/train/Inertial Signals/total_acc_y_train.txt')\n",
        "zzt=np.loadtxt('/content/UCI HAR Dataset/train/Inertial Signals/total_acc_z_train.txt')\n",
        "xxg=np.loadtxt('/content/UCI HAR Dataset/train/Inertial Signals/body_gyro_x_train.txt')\n",
        "yyg=np.loadtxt('/content/UCI HAR Dataset/train/Inertial Signals/body_gyro_y_train.txt')\n",
        "zzg=np.loadtxt('/content/UCI HAR Dataset/train/Inertial Signals/body_gyro_z_train.txt')\n",
        "\n",
        "x_train = np.concatenate((xx[:,:,None],yy[:,:,None],zz[:,:,None],\n",
        "xxt[:,:,None],yyt[:,:,None],zzt[:,:,None],\n",
        "xxg[:,:,None],yyg[:,:,None],zzg[:,:,None]),axis=2)\n",
        "\n",
        "\n",
        "#part3 - model_4 - creating the test set\n",
        "\n",
        "xx=np.loadtxt('/content/UCI HAR Dataset/test/Inertial Signals/body_acc_x_test.txt')\n",
        "yy=np.loadtxt('/content/UCI HAR Dataset/test/Inertial Signals/body_acc_y_test.txt')\n",
        "zz=np.loadtxt('/content/UCI HAR Dataset/test/Inertial Signals/body_acc_z_test.txt')\n",
        "xxt=np.loadtxt('/content/UCI HAR Dataset/test/Inertial Signals/total_acc_x_test.txt')\n",
        "yyt=np.loadtxt('/content/UCI HAR Dataset/test/Inertial Signals/total_acc_y_test.txt')\n",
        "zzt=np.loadtxt('/content/UCI HAR Dataset/test/Inertial Signals/total_acc_z_test.txt')\n",
        "xxg=np.loadtxt('/content/UCI HAR Dataset/test/Inertial Signals/body_gyro_x_test.txt')\n",
        "yyg=np.loadtxt('/content/UCI HAR Dataset/test/Inertial Signals/body_gyro_y_test.txt')\n",
        "zzg=np.loadtxt('/content/UCI HAR Dataset/test/Inertial Signals/body_gyro_z_test.txt')\n",
        "\n",
        "x_test = np.concatenate((xx[:,:,None],yy[:,:,None],zz[:,:,None],\n",
        "xxt[:,:,None],yyt[:,:,None],zzt[:,:,None],\n",
        "xxg[:,:,None],yyg[:,:,None],zzg[:,:,None]),axis=2)\n",
        "\n",
        "#part3 - model_4 - checking the shapes\n",
        "\n",
        "print(x_train.shape, x_test.shape)"
      ],
      "execution_count": 24,
      "outputs": [
        {
          "output_type": "stream",
          "text": [
            "(7352, 128, 9) (2947, 128, 9)\n"
          ],
          "name": "stdout"
        }
      ]
    },
    {
      "cell_type": "code",
      "metadata": {
        "colab": {
          "base_uri": "https://localhost:8080/"
        },
        "id": "BwE877YpiBYR",
        "outputId": "9c569bb8-2ec8-404d-eb10-8f936e9a5ea8"
      },
      "source": [
        "#checking for NAs\n",
        "\n",
        "np.isnan(np.sum(x_train))"
      ],
      "execution_count": 25,
      "outputs": [
        {
          "output_type": "execute_result",
          "data": {
            "text/plain": [
              "False"
            ]
          },
          "metadata": {
            "tags": []
          },
          "execution_count": 25
        }
      ]
    },
    {
      "cell_type": "code",
      "metadata": {
        "colab": {
          "base_uri": "https://localhost:8080/"
        },
        "id": "cnpSODyNiOlc",
        "outputId": "1ffa10a6-7bf7-45f3-8888-12d5448800b4"
      },
      "source": [
        "#checking for NAs\n",
        "\n",
        "np.isnan(np.sum(x_test))"
      ],
      "execution_count": 26,
      "outputs": [
        {
          "output_type": "execute_result",
          "data": {
            "text/plain": [
              "False"
            ]
          },
          "metadata": {
            "tags": []
          },
          "execution_count": 26
        }
      ]
    },
    {
      "cell_type": "code",
      "metadata": {
        "colab": {
          "base_uri": "https://localhost:8080/",
          "height": 281
        },
        "id": "zW9Zi63oSCYb",
        "outputId": "00ace0fb-3d32-4212-e988-0570cf2c5a93"
      },
      "source": [
        "#part3 - model_4 - plotting one example\n",
        "\n",
        "plt.title('Example 9D time series from the training set')\n",
        "plt.plot(x_train[0]);"
      ],
      "execution_count": 27,
      "outputs": [
        {
          "output_type": "display_data",
          "data": {
            "image/png": "[encoded data removed]",
            "text/plain": [
              "<Figure size 432x288 with 1 Axes>"
            ]
          },
          "metadata": {
            "tags": [],
            "needs_background": "light"
          }
        }
      ]
    },
    {
      "cell_type": "code",
      "metadata": {
        "colab": {
          "base_uri": "https://localhost:8080/"
        },
        "id": "JrZJ-ZaaSrtN",
        "outputId": "7f0a4482-30a9-43fa-d18a-5137c3be07cb"
      },
      "source": [
        "#part3 - model_4 - fitting the cnn to the full datatset\n",
        "\n",
        "model_4 = keras.Sequential([\n",
        "  keras.layers.Conv1D(filters=96, kernel_size=2, activation='relu', \n",
        "                      input_shape=(128,9)),\n",
        "  keras.layers.Conv1D(filters=96, kernel_size=2, activation='relu'),\n",
        "  keras.layers.BatchNormalization(),\n",
        "  keras.layers.Dense(100, activation='relu'),\n",
        "  keras.layers.Dropout(0.5),\n",
        "  keras.layers.GlobalAveragePooling1D(),\n",
        "  keras.layers.Dense(6, activation='softmax') \n",
        "])\n",
        "\n",
        "#part3 - model_4 - compiling the model\n",
        "\n",
        "model_4.compile(optimizer='adam',\n",
        "              loss='sparse_categorical_crossentropy',\n",
        "              metrics=['accuracy'])\n",
        "\n",
        "#part3 - model_4 - fitting the model\n",
        "\n",
        "history_4 = model_4.fit(x_train, ytrain, epochs=100, \n",
        "                        validation_data=(x_test, ytest))"
      ],
      "execution_count": 28,
      "outputs": [
        {
          "output_type": "stream",
          "text": [
            "Epoch 1/100\n",
            "230/230 [==============================] - 2s 6ms/step - loss: 0.3639 - accuracy: 0.8896 - val_loss: 0.7887 - val_accuracy: 0.8758\n",
            "Epoch 2/100\n",
            "230/230 [==============================] - 1s 5ms/step - loss: 0.1492 - accuracy: 0.9455 - val_loss: 0.3536 - val_accuracy: 0.8958\n",
            "Epoch 3/100\n",
            "230/230 [==============================] - 1s 5ms/step - loss: 0.1280 - accuracy: 0.9479 - val_loss: 0.3863 - val_accuracy: 0.8768\n",
            "Epoch 4/100\n",
            "230/230 [==============================] - 1s 5ms/step - loss: 0.1145 - accuracy: 0.9510 - val_loss: 0.4059 - val_accuracy: 0.8931\n",
            "Epoch 5/100\n",
            "230/230 [==============================] - 1s 5ms/step - loss: 0.1126 - accuracy: 0.9518 - val_loss: 0.3513 - val_accuracy: 0.9315\n",
            "Epoch 6/100\n",
            "230/230 [==============================] - 1s 5ms/step - loss: 0.1005 - accuracy: 0.9551 - val_loss: 0.4075 - val_accuracy: 0.8962\n",
            "Epoch 7/100\n",
            "230/230 [==============================] - 1s 5ms/step - loss: 0.0977 - accuracy: 0.9553 - val_loss: 0.3222 - val_accuracy: 0.9325\n",
            "Epoch 8/100\n",
            "230/230 [==============================] - 1s 5ms/step - loss: 0.0951 - accuracy: 0.9584 - val_loss: 0.3024 - val_accuracy: 0.9094\n",
            "Epoch 9/100\n",
            "230/230 [==============================] - 1s 5ms/step - loss: 0.0870 - accuracy: 0.9608 - val_loss: 0.4148 - val_accuracy: 0.9063\n",
            "Epoch 10/100\n",
            "230/230 [==============================] - 1s 5ms/step - loss: 0.0826 - accuracy: 0.9627 - val_loss: 0.3371 - val_accuracy: 0.9074\n",
            "Epoch 11/100\n",
            "230/230 [==============================] - 1s 5ms/step - loss: 0.0823 - accuracy: 0.9621 - val_loss: 0.5182 - val_accuracy: 0.9060\n",
            "Epoch 12/100\n",
            "230/230 [==============================] - 1s 5ms/step - loss: 0.0768 - accuracy: 0.9638 - val_loss: 0.4221 - val_accuracy: 0.8992\n",
            "Epoch 13/100\n",
            "230/230 [==============================] - 1s 5ms/step - loss: 0.0768 - accuracy: 0.9648 - val_loss: 0.4461 - val_accuracy: 0.9087\n",
            "Epoch 14/100\n",
            "230/230 [==============================] - 1s 5ms/step - loss: 0.0698 - accuracy: 0.9675 - val_loss: 0.4607 - val_accuracy: 0.9223\n",
            "Epoch 15/100\n",
            "230/230 [==============================] - 1s 5ms/step - loss: 0.0701 - accuracy: 0.9678 - val_loss: 0.4759 - val_accuracy: 0.9019\n",
            "Epoch 16/100\n",
            "230/230 [==============================] - 1s 5ms/step - loss: 0.0736 - accuracy: 0.9668 - val_loss: 0.4670 - val_accuracy: 0.9162\n",
            "Epoch 17/100\n",
            "230/230 [==============================] - 1s 5ms/step - loss: 0.0653 - accuracy: 0.9694 - val_loss: 0.4222 - val_accuracy: 0.9148\n",
            "Epoch 18/100\n",
            "230/230 [==============================] - 1s 5ms/step - loss: 0.0660 - accuracy: 0.9709 - val_loss: 0.4834 - val_accuracy: 0.9169\n",
            "Epoch 19/100\n",
            "230/230 [==============================] - 1s 5ms/step - loss: 0.0597 - accuracy: 0.9728 - val_loss: 0.4779 - val_accuracy: 0.9209\n",
            "Epoch 20/100\n",
            "230/230 [==============================] - 1s 5ms/step - loss: 0.0528 - accuracy: 0.9759 - val_loss: 0.5892 - val_accuracy: 0.9026\n",
            "Epoch 21/100\n",
            "230/230 [==============================] - 1s 5ms/step - loss: 0.0544 - accuracy: 0.9765 - val_loss: 0.6274 - val_accuracy: 0.9013\n",
            "Epoch 22/100\n",
            "230/230 [==============================] - 1s 5ms/step - loss: 0.0592 - accuracy: 0.9740 - val_loss: 0.6193 - val_accuracy: 0.9192\n",
            "Epoch 23/100\n",
            "230/230 [==============================] - 1s 5ms/step - loss: 0.0548 - accuracy: 0.9763 - val_loss: 0.5609 - val_accuracy: 0.9141\n",
            "Epoch 24/100\n",
            "230/230 [==============================] - 1s 5ms/step - loss: 0.0535 - accuracy: 0.9746 - val_loss: 0.4362 - val_accuracy: 0.9396\n",
            "Epoch 25/100\n",
            "230/230 [==============================] - 1s 5ms/step - loss: 0.0503 - accuracy: 0.9792 - val_loss: 0.4759 - val_accuracy: 0.9284\n",
            "Epoch 26/100\n",
            "230/230 [==============================] - 1s 5ms/step - loss: 0.0450 - accuracy: 0.9816 - val_loss: 0.4389 - val_accuracy: 0.9437\n",
            "Epoch 27/100\n",
            "230/230 [==============================] - 1s 5ms/step - loss: 0.0371 - accuracy: 0.9844 - val_loss: 0.6122 - val_accuracy: 0.9152\n",
            "Epoch 28/100\n",
            "230/230 [==============================] - 1s 5ms/step - loss: 0.0476 - accuracy: 0.9797 - val_loss: 0.5748 - val_accuracy: 0.9196\n",
            "Epoch 29/100\n",
            "230/230 [==============================] - 1s 5ms/step - loss: 0.0357 - accuracy: 0.9852 - val_loss: 0.5696 - val_accuracy: 0.9247\n",
            "Epoch 30/100\n",
            "230/230 [==============================] - 1s 5ms/step - loss: 0.0436 - accuracy: 0.9823 - val_loss: 0.7092 - val_accuracy: 0.9206\n",
            "Epoch 31/100\n",
            "230/230 [==============================] - 1s 5ms/step - loss: 0.0442 - accuracy: 0.9816 - val_loss: 0.8722 - val_accuracy: 0.9019\n",
            "Epoch 32/100\n",
            "230/230 [==============================] - 1s 5ms/step - loss: 0.0384 - accuracy: 0.9829 - val_loss: 0.7030 - val_accuracy: 0.9002\n",
            "Epoch 33/100\n",
            "230/230 [==============================] - 1s 5ms/step - loss: 0.0331 - accuracy: 0.9864 - val_loss: 0.8933 - val_accuracy: 0.9108\n",
            "Epoch 34/100\n",
            "230/230 [==============================] - 1s 5ms/step - loss: 0.0372 - accuracy: 0.9859 - val_loss: 0.9713 - val_accuracy: 0.9230\n",
            "Epoch 35/100\n",
            "230/230 [==============================] - 1s 5ms/step - loss: 0.0323 - accuracy: 0.9859 - val_loss: 0.8060 - val_accuracy: 0.9196\n",
            "Epoch 36/100\n",
            "230/230 [==============================] - 1s 5ms/step - loss: 0.0323 - accuracy: 0.9861 - val_loss: 0.7990 - val_accuracy: 0.9250\n",
            "Epoch 37/100\n",
            "230/230 [==============================] - 1s 5ms/step - loss: 0.0314 - accuracy: 0.9861 - val_loss: 0.8969 - val_accuracy: 0.9131\n",
            "Epoch 38/100\n",
            "230/230 [==============================] - 1s 5ms/step - loss: 0.0278 - accuracy: 0.9888 - val_loss: 0.9761 - val_accuracy: 0.9023\n",
            "Epoch 39/100\n",
            "230/230 [==============================] - 1s 5ms/step - loss: 0.0356 - accuracy: 0.9835 - val_loss: 0.8469 - val_accuracy: 0.9148\n",
            "Epoch 40/100\n",
            "230/230 [==============================] - 1s 5ms/step - loss: 0.0301 - accuracy: 0.9861 - val_loss: 0.8073 - val_accuracy: 0.9135\n",
            "Epoch 41/100\n",
            "230/230 [==============================] - 1s 5ms/step - loss: 0.0340 - accuracy: 0.9849 - val_loss: 0.9350 - val_accuracy: 0.9026\n",
            "Epoch 42/100\n",
            "230/230 [==============================] - 1s 5ms/step - loss: 0.0312 - accuracy: 0.9872 - val_loss: 0.9113 - val_accuracy: 0.9203\n",
            "Epoch 43/100\n",
            "230/230 [==============================] - 1s 5ms/step - loss: 0.0288 - accuracy: 0.9899 - val_loss: 0.9837 - val_accuracy: 0.9087\n",
            "Epoch 44/100\n",
            "230/230 [==============================] - 1s 5ms/step - loss: 0.0302 - accuracy: 0.9863 - val_loss: 1.1281 - val_accuracy: 0.9046\n",
            "Epoch 45/100\n",
            "230/230 [==============================] - 1s 5ms/step - loss: 0.0252 - accuracy: 0.9897 - val_loss: 0.8295 - val_accuracy: 0.9169\n",
            "Epoch 46/100\n",
            "230/230 [==============================] - 1s 5ms/step - loss: 0.0216 - accuracy: 0.9902 - val_loss: 0.8857 - val_accuracy: 0.9209\n",
            "Epoch 47/100\n",
            "230/230 [==============================] - 1s 5ms/step - loss: 0.0289 - accuracy: 0.9886 - val_loss: 0.9833 - val_accuracy: 0.9158\n",
            "Epoch 48/100\n",
            "230/230 [==============================] - 1s 5ms/step - loss: 0.0227 - accuracy: 0.9902 - val_loss: 1.1469 - val_accuracy: 0.9033\n",
            "Epoch 49/100\n",
            "230/230 [==============================] - 1s 5ms/step - loss: 0.0280 - accuracy: 0.9883 - val_loss: 1.1088 - val_accuracy: 0.9206\n",
            "Epoch 50/100\n",
            "230/230 [==============================] - 1s 5ms/step - loss: 0.0192 - accuracy: 0.9933 - val_loss: 1.2236 - val_accuracy: 0.8833\n",
            "Epoch 51/100\n",
            "230/230 [==============================] - 1s 5ms/step - loss: 0.0229 - accuracy: 0.9898 - val_loss: 1.2230 - val_accuracy: 0.9165\n",
            "Epoch 52/100\n",
            "230/230 [==============================] - 1s 5ms/step - loss: 0.0246 - accuracy: 0.9902 - val_loss: 1.0837 - val_accuracy: 0.9270\n",
            "Epoch 53/100\n",
            "230/230 [==============================] - 1s 5ms/step - loss: 0.0216 - accuracy: 0.9906 - val_loss: 0.9583 - val_accuracy: 0.9291\n",
            "Epoch 54/100\n",
            "230/230 [==============================] - 1s 5ms/step - loss: 0.0180 - accuracy: 0.9933 - val_loss: 1.0889 - val_accuracy: 0.9304\n",
            "Epoch 55/100\n",
            "230/230 [==============================] - 1s 5ms/step - loss: 0.0153 - accuracy: 0.9932 - val_loss: 1.0725 - val_accuracy: 0.9209\n",
            "Epoch 56/100\n",
            "230/230 [==============================] - 1s 5ms/step - loss: 0.0298 - accuracy: 0.9883 - val_loss: 1.1369 - val_accuracy: 0.9155\n",
            "Epoch 57/100\n",
            "230/230 [==============================] - 1s 5ms/step - loss: 0.0194 - accuracy: 0.9932 - val_loss: 0.6318 - val_accuracy: 0.9328\n",
            "Epoch 58/100\n",
            "230/230 [==============================] - 1s 5ms/step - loss: 0.0215 - accuracy: 0.9929 - val_loss: 0.7476 - val_accuracy: 0.9057\n",
            "Epoch 59/100\n",
            "230/230 [==============================] - 1s 5ms/step - loss: 0.0141 - accuracy: 0.9948 - val_loss: 0.7500 - val_accuracy: 0.9243\n",
            "Epoch 60/100\n",
            "230/230 [==============================] - 1s 5ms/step - loss: 0.0166 - accuracy: 0.9937 - val_loss: 0.9295 - val_accuracy: 0.9233\n",
            "Epoch 61/100\n",
            "230/230 [==============================] - 1s 5ms/step - loss: 0.0212 - accuracy: 0.9918 - val_loss: 0.9057 - val_accuracy: 0.9067\n",
            "Epoch 62/100\n",
            "230/230 [==============================] - 1s 5ms/step - loss: 0.0179 - accuracy: 0.9935 - val_loss: 0.8107 - val_accuracy: 0.9230\n",
            "Epoch 63/100\n",
            "230/230 [==============================] - 1s 5ms/step - loss: 0.0138 - accuracy: 0.9940 - val_loss: 0.8463 - val_accuracy: 0.9175\n",
            "Epoch 64/100\n",
            "230/230 [==============================] - 1s 5ms/step - loss: 0.0127 - accuracy: 0.9963 - val_loss: 0.7928 - val_accuracy: 0.9203\n",
            "Epoch 65/100\n",
            "230/230 [==============================] - 1s 5ms/step - loss: 0.0142 - accuracy: 0.9955 - val_loss: 0.7551 - val_accuracy: 0.9237\n",
            "Epoch 66/100\n",
            "230/230 [==============================] - 1s 5ms/step - loss: 0.0204 - accuracy: 0.9932 - val_loss: 0.7581 - val_accuracy: 0.9192\n",
            "Epoch 67/100\n",
            "230/230 [==============================] - 1s 5ms/step - loss: 0.0183 - accuracy: 0.9928 - val_loss: 0.8582 - val_accuracy: 0.9138\n",
            "Epoch 68/100\n",
            "230/230 [==============================] - 1s 5ms/step - loss: 0.0252 - accuracy: 0.9916 - val_loss: 0.8439 - val_accuracy: 0.9128\n",
            "Epoch 69/100\n",
            "230/230 [==============================] - 1s 5ms/step - loss: 0.0138 - accuracy: 0.9962 - val_loss: 0.8224 - val_accuracy: 0.9233\n",
            "Epoch 70/100\n",
            "230/230 [==============================] - 1s 5ms/step - loss: 0.0126 - accuracy: 0.9952 - val_loss: 0.7834 - val_accuracy: 0.9169\n",
            "Epoch 71/100\n",
            "230/230 [==============================] - 1s 5ms/step - loss: 0.0134 - accuracy: 0.9939 - val_loss: 0.7804 - val_accuracy: 0.9206\n",
            "Epoch 72/100\n",
            "230/230 [==============================] - 1s 5ms/step - loss: 0.0124 - accuracy: 0.9950 - val_loss: 0.8685 - val_accuracy: 0.9257\n",
            "Epoch 73/100\n",
            "230/230 [==============================] - 1s 5ms/step - loss: 0.0201 - accuracy: 0.9927 - val_loss: 0.8222 - val_accuracy: 0.9175\n",
            "Epoch 74/100\n",
            "230/230 [==============================] - 1s 5ms/step - loss: 0.0130 - accuracy: 0.9963 - val_loss: 0.9677 - val_accuracy: 0.9114\n",
            "Epoch 75/100\n",
            "230/230 [==============================] - 1s 5ms/step - loss: 0.0137 - accuracy: 0.9952 - val_loss: 0.8917 - val_accuracy: 0.9233\n",
            "Epoch 76/100\n",
            "230/230 [==============================] - 1s 5ms/step - loss: 0.0130 - accuracy: 0.9954 - val_loss: 1.0491 - val_accuracy: 0.9131\n",
            "Epoch 77/100\n",
            "230/230 [==============================] - 1s 5ms/step - loss: 0.0104 - accuracy: 0.9954 - val_loss: 1.0109 - val_accuracy: 0.9063\n",
            "Epoch 78/100\n",
            "230/230 [==============================] - 1s 5ms/step - loss: 0.0163 - accuracy: 0.9940 - val_loss: 1.1427 - val_accuracy: 0.9067\n",
            "Epoch 79/100\n",
            "230/230 [==============================] - 1s 5ms/step - loss: 0.0154 - accuracy: 0.9946 - val_loss: 0.9597 - val_accuracy: 0.9138\n",
            "Epoch 80/100\n",
            "230/230 [==============================] - 1s 5ms/step - loss: 0.0276 - accuracy: 0.9914 - val_loss: 0.9012 - val_accuracy: 0.9247\n",
            "Epoch 81/100\n",
            "230/230 [==============================] - 1s 5ms/step - loss: 0.0087 - accuracy: 0.9973 - val_loss: 0.9464 - val_accuracy: 0.9230\n",
            "Epoch 82/100\n",
            "230/230 [==============================] - 1s 5ms/step - loss: 0.0109 - accuracy: 0.9962 - val_loss: 0.9460 - val_accuracy: 0.9220\n",
            "Epoch 83/100\n",
            "230/230 [==============================] - 1s 5ms/step - loss: 0.0239 - accuracy: 0.9939 - val_loss: 0.9460 - val_accuracy: 0.9091\n",
            "Epoch 84/100\n",
            "230/230 [==============================] - 1s 5ms/step - loss: 0.0084 - accuracy: 0.9973 - val_loss: 0.8812 - val_accuracy: 0.9253\n",
            "Epoch 85/100\n",
            "230/230 [==============================] - 1s 5ms/step - loss: 0.0070 - accuracy: 0.9980 - val_loss: 1.0305 - val_accuracy: 0.9135\n",
            "Epoch 86/100\n",
            "230/230 [==============================] - 1s 5ms/step - loss: 0.0108 - accuracy: 0.9961 - val_loss: 0.8843 - val_accuracy: 0.9243\n",
            "Epoch 87/100\n",
            "230/230 [==============================] - 1s 5ms/step - loss: 0.0174 - accuracy: 0.9927 - val_loss: 1.1518 - val_accuracy: 0.9199\n",
            "Epoch 88/100\n",
            "230/230 [==============================] - 1s 5ms/step - loss: 0.0119 - accuracy: 0.9961 - val_loss: 0.9226 - val_accuracy: 0.9257\n",
            "Epoch 89/100\n",
            "230/230 [==============================] - 1s 5ms/step - loss: 0.0117 - accuracy: 0.9961 - val_loss: 1.4684 - val_accuracy: 0.8364\n",
            "Epoch 90/100\n",
            "230/230 [==============================] - 1s 5ms/step - loss: 0.0173 - accuracy: 0.9944 - val_loss: 0.8487 - val_accuracy: 0.9223\n",
            "Epoch 91/100\n",
            "230/230 [==============================] - 1s 6ms/step - loss: 0.0190 - accuracy: 0.9937 - val_loss: 0.8590 - val_accuracy: 0.9318\n",
            "Epoch 92/100\n",
            "230/230 [==============================] - 1s 5ms/step - loss: 0.0082 - accuracy: 0.9970 - val_loss: 0.9782 - val_accuracy: 0.9230\n",
            "Epoch 93/100\n",
            "230/230 [==============================] - 1s 5ms/step - loss: 0.0126 - accuracy: 0.9963 - val_loss: 0.8972 - val_accuracy: 0.9125\n",
            "Epoch 94/100\n",
            "230/230 [==============================] - 1s 5ms/step - loss: 0.0072 - accuracy: 0.9978 - val_loss: 1.1029 - val_accuracy: 0.9152\n",
            "Epoch 95/100\n",
            "230/230 [==============================] - 1s 5ms/step - loss: 0.0106 - accuracy: 0.9965 - val_loss: 1.2439 - val_accuracy: 0.9189\n",
            "Epoch 96/100\n",
            "230/230 [==============================] - 1s 5ms/step - loss: 0.0056 - accuracy: 0.9980 - val_loss: 1.1047 - val_accuracy: 0.9209\n",
            "Epoch 97/100\n",
            "230/230 [==============================] - 1s 6ms/step - loss: 0.0124 - accuracy: 0.9955 - val_loss: 1.1427 - val_accuracy: 0.9101\n",
            "Epoch 98/100\n",
            "230/230 [==============================] - 1s 5ms/step - loss: 0.0205 - accuracy: 0.9931 - val_loss: 1.0814 - val_accuracy: 0.9196\n",
            "Epoch 99/100\n",
            "230/230 [==============================] - 1s 5ms/step - loss: 0.0065 - accuracy: 0.9980 - val_loss: 1.0566 - val_accuracy: 0.9267\n",
            "Epoch 100/100\n",
            "230/230 [==============================] - 1s 5ms/step - loss: 0.0126 - accuracy: 0.9967 - val_loss: 1.2865 - val_accuracy: 0.9230\n"
          ],
          "name": "stdout"
        }
      ]
    },
    {
      "cell_type": "code",
      "metadata": {
        "colab": {
          "base_uri": "https://localhost:8080/",
          "height": 295
        },
        "id": "tJaVa-Oen9zQ",
        "outputId": "4fd52f59-fa90-4b8f-f5a2-580264461128"
      },
      "source": [
        "#part3 - model_4 - plotting the loss\n",
        "\n",
        "plt.plot(history_4.history['loss'])\n",
        "plt.plot(history_4.history['val_loss'])\n",
        "plt.title('CNN Loss - Model_4')\n",
        "plt.xlabel('Iterations')\n",
        "plt.ylabel('Loss')\n",
        "plt.legend(['train', 'test'], loc='upper left');"
      ],
      "execution_count": 30,
      "outputs": [
        {
          "output_type": "display_data",
          "data": {
            "image/png": "[encoded data removed]",
            "text/plain": [
              "<Figure size 432x288 with 1 Axes>"
            ]
          },
          "metadata": {
            "tags": [],
            "needs_background": "light"
          }
        }
      ]
    },
    {
      "cell_type": "code",
      "metadata": {
        "colab": {
          "base_uri": "https://localhost:8080/",
          "height": 295
        },
        "id": "OUAtcHfZoLPv",
        "outputId": "95afd07f-f6b0-420a-a61b-60a24c74bc6e"
      },
      "source": [
        "#part3 - model_4 - plotting the accuracy\n",
        "\n",
        "plt.plot(history_4.history['accuracy'])\n",
        "plt.plot(history_4.history['val_accuracy'])\n",
        "plt.title('CNN Accuracy- Model_4')\n",
        "plt.xlabel('Iterations')\n",
        "plt.ylabel('Accuracy')\n",
        "plt.legend(['train', 'test'], loc='upper left');"
      ],
      "execution_count": 31,
      "outputs": [
        {
          "output_type": "display_data",
          "data": {
            "image/png": "[encoded data removed]",
            "text/plain": [
              "<Figure size 432x288 with 1 Axes>"
            ]
          },
          "metadata": {
            "tags": [],
            "needs_background": "light"
          }
        }
      ]
    }
  ]
}